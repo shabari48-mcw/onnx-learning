{
 "cells": [
  {
   "cell_type": "code",
   "execution_count": 7,
   "metadata": {},
   "outputs": [],
   "source": [
    "import onnx\n",
    "import onnx_graphsurgeon as gs\n",
    "import onnxruntime as ort\n",
    "import torch\n",
    "import numpy as np\n",
    "from rich import print\n",
    "from onnx import TensorProto\n",
    "\n",
    "file_name=r\"D:\\Learn DL\\ONNX\\bevdet_r50_ckpt_folded_final_folded.onnx\"\n",
    "\n",
    "model=onnx.load(file_name)"
   ]
  },
  {
   "cell_type": "code",
   "execution_count": 8,
   "metadata": {},
   "outputs": [
    {
     "data": {
      "text/plain": [
       "(['boxes_3d', 'scores_3d', 'labels_3d'],\n",
       " ['imgs', 'sensor2keyegos', 'intrins', 'post_rots', 'post_trans', 'bda'])"
      ]
     },
     "execution_count": 8,
     "metadata": {},
     "output_type": "execute_result"
    }
   ],
   "source": [
    "session = ort.InferenceSession(model.SerializeToString())\n",
    "org_outputs = [x.name for x in session.get_outputs()]\n",
    "org_inputs = [x.name for x in session.get_inputs()]\n",
    "\n",
    "org_outputs,org_inputs"
   ]
  },
  {
   "cell_type": "code",
   "execution_count": 12,
   "metadata": {},
   "outputs": [
    {
     "data": {
      "text/html": [
       "<pre style=\"white-space:pre;overflow-x:auto;line-height:normal;font-family:Menlo,'DejaVu Sans Mono',consolas,'Courier New',monospace\">\n",
       "ONNX model <span style=\"color: #008000; text-decoration-color: #008000\">'isolated.onnx'</span> generated successfully!\n",
       "</pre>\n"
      ],
      "text/plain": [
       "\n",
       "ONNX model \u001b[32m'isolated.onnx'\u001b[0m generated successfully!\n"
      ]
     },
     "metadata": {},
     "output_type": "display_data"
    }
   ],
   "source": [
    "graph=gs.import_onnx(model)\n",
    "tensors=graph.tensors()\n",
    "\n",
    "\n",
    "graph.inputs=[tensors['/img_bev_encoder_backbone/layers.0/layers.0.0/Add_output_0']]\n",
    "graph.outputs=[tensors['/img_bev_encoder_backbone/layers.0/layers.0.1/Add_output_0']]\n",
    "\n",
    "graph.cleanup()\n",
    "\n",
    "sub_model=gs.export_onnx(graph)\n",
    "\n",
    "onnx.checker.check_model(sub_model)\n",
    "\n",
    "onnx.save(sub_model, \"isolated.onnx\")\n",
    "\n",
    "print(\"\\nONNX model 'isolated.onnx' generated successfully!\")"
   ]
  },
  {
   "cell_type": "code",
   "execution_count": 21,
   "metadata": {},
   "outputs": [
    {
     "data": {
      "text/plain": [
       "/img_bev_encoder_backbone/layers.0/layers.0.0/relu_1/Relu (Relu)\n",
       "\tInputs: [\n",
       "\t\tVariable (/img_bev_encoder_backbone/layers.0/layers.0.0/Add_output_0): (shape=[1, 128, 64, 64], dtype=float32)\n",
       "\t]\n",
       "\tOutputs: [\n",
       "\t\tVariable (/img_bev_encoder_backbone/layers.0/layers.0.0/relu_1/Relu_output_0): (shape=[1, 128, 64, 64], dtype=float32)\n",
       "\t]"
      ]
     },
     "execution_count": 21,
     "metadata": {},
     "output_type": "execute_result"
    }
   ],
   "source": [
    "sub_graph=gs.import_onnx(onnx.load(\"isolated.onnx\"))\n",
    "\n",
    "relu = [node for node in sub_graph.nodes if node.op==\"Relu\"][0]\n",
    "\n",
    "relu"
   ]
  },
  {
   "cell_type": "code",
   "execution_count": null,
   "metadata": {},
   "outputs": [],
   "source": [
    "squeeze_node = gs.Node(op=\"Squeeze\", name=\"squeeze_node\", inputs=[input_tensor], outputs=[squeeze_output], attrs={\"axes\": [0]})\n",
    "\n",
    "# Step 3: Create Unsqueeze Node (adds back dimension)\n",
    "unsqueeze_output = gs.Variable(name=\"unsqueeze_output\", dtype=np.float32, shape=(1, x, x, x))\n",
    "unsqueeze_node = gs.Node(op=\"Unsqueeze\", name=\"unsqueeze_node\", inputs=[squeeze_output], outputs=[unsqueeze_output], attrs={\"axes\": [0]})\n"
   ]
  }
 ],
 "metadata": {
  "kernelspec": {
   "display_name": "mlenv",
   "language": "python",
   "name": "python3"
  },
  "language_info": {
   "codemirror_mode": {
    "name": "ipython",
    "version": 3
   },
   "file_extension": ".py",
   "mimetype": "text/x-python",
   "name": "python",
   "nbconvert_exporter": "python",
   "pygments_lexer": "ipython3",
   "version": "3.13.1"
  }
 },
 "nbformat": 4,
 "nbformat_minor": 2
}
