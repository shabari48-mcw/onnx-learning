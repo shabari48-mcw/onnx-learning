{
 "cells": [
  {
   "cell_type": "code",
   "execution_count": 458,
   "metadata": {},
   "outputs": [],
   "source": [
    "import onnx\n",
    "import onnx_graphsurgeon as gs\n",
    "import onnxruntime as ort\n",
    "import torch\n",
    "import numpy as np\n",
    "from rich import print\n",
    "from onnx import TensorProto\n",
    "from onnx import helper,numpy_helper\n",
    "\n",
    "file_name=r\"D:\\Learn DL\\ONNX\\bevdet_r50_ckpt_folded_final_folded.onnx\"\n",
    "\n",
    "# model=onnx.load(file_name)"
   ]
  },
  {
   "cell_type": "markdown",
   "metadata": {},
   "source": [
    "## Isolation"
   ]
  },
  {
   "cell_type": "code",
   "execution_count": 459,
   "metadata": {},
   "outputs": [],
   "source": [
    "# session = ort.InferenceSession(model.SerializeToString())\n",
    "# org_outputs = [x.name for x in session.get_outputs()]\n",
    "# org_inputs = [x.name for x in session.get_inputs()]\n",
    "\n",
    "# print(org_outputs,org_inputs"
   ]
  },
  {
   "cell_type": "code",
   "execution_count": 460,
   "metadata": {},
   "outputs": [],
   "source": [
    "# graph=gs.import_onnx(model)\n",
    "# tensors=graph.tensors()\n",
    "\n",
    "\n",
    "# graph.inputs=[tensors['/pts_bbox_head/Concat_35_output_0']]\n",
    "# graph.outputs=[tensors['/pts_bbox_head/Mul_16_output_0']]\n",
    "\n",
    "# graph.cleanup()\n",
    "\n",
    "# sub_model=gs.export_onnx(graph)\n",
    "\n",
    "# onnx.checker.check_model(sub_model)\n",
    "\n",
    "# onnx.save(sub_model, \"mul_isolated.onnx\")\n",
    "\n",
    "# print(\"\\nONNX model 'mul_isolated.onnx' generated successfully!\")"
   ]
  },
  {
   "cell_type": "markdown",
   "metadata": {},
   "source": [
    "## Add squeeze Unsqueeze"
   ]
  },
  {
   "cell_type": "code",
   "execution_count": 509,
   "metadata": {},
   "outputs": [],
   "source": [
    "sub_graph=gs.import_onnx(onnx.load(\"mul_isolated.onnx\"))\n",
    "\n",
    "slice = [node for node in sub_graph.nodes if node.op==\"Slice\"][0]\n",
    "less_or_eq = [node for node in sub_graph.nodes if node.op==\"LessOrEqual\"][0]\n",
    "great_or_eq = [node for node in sub_graph.nodes if node.op==\"GreaterOrEqual\"][0]\n",
    "\n"
   ]
  },
  {
   "cell_type": "code",
   "execution_count": 510,
   "metadata": {},
   "outputs": [
    {
     "name": "stdout",
     "output_type": "stream",
     "text": [
      "['\\x1b[38;5;196m'][E] Function: '_ipython_canary_method_should_not_exist_' was not registered for opset 17. \u001b[0m\n",
      "['\\x1b[38;5;196m'][E] Function: '_ipython_display_' was not registered for opset 17. \u001b[0m\n",
      "['\\x1b[38;5;196m'][E] Function: '_ipython_canary_method_should_not_exist_' was not registered for opset 17. \u001b[0m\n",
      "['\\x1b[38;5;196m'][E] Function: '_repr_mimebundle_' was not registered for opset 17. \u001b[0m\n",
      "['\\x1b[38;5;196m'][E] Function: '_ipython_canary_method_should_not_exist_' was not registered for opset 17. \u001b[0m\n",
      "['\\x1b[38;5;196m'][E] Function: '_repr_html_' was not registered for opset 17. \u001b[0m\n",
      "['\\x1b[38;5;196m'][E] Function: '_ipython_canary_method_should_not_exist_' was not registered for opset 17. \u001b[0m\n",
      "['\\x1b[38;5;196m'][E] Function: '_repr_markdown_' was not registered for opset 17. \u001b[0m\n",
      "['\\x1b[38;5;196m'][E] Function: '_ipython_canary_method_should_not_exist_' was not registered for opset 17. \u001b[0m\n",
      "['\\x1b[38;5;196m'][E] Function: '_repr_svg_' was not registered for opset 17. \u001b[0m\n",
      "['\\x1b[38;5;196m'][E] Function: '_ipython_canary_method_should_not_exist_' was not registered for opset 17. \u001b[0m\n",
      "['\\x1b[38;5;196m'][E] Function: '_repr_png_' was not registered for opset 17. \u001b[0m\n",
      "['\\x1b[38;5;196m'][E] Function: '_ipython_canary_method_should_not_exist_' was not registered for opset 17. \u001b[0m\n",
      "['\\x1b[38;5;196m'][E] Function: '_repr_pdf_' was not registered for opset 17. \u001b[0m\n",
      "['\\x1b[38;5;196m'][E] Function: '_ipython_canary_method_should_not_exist_' was not registered for opset 17. \u001b[0m\n",
      "['\\x1b[38;5;196m'][E] Function: '_repr_jpeg_' was not registered for opset 17. \u001b[0m\n",
      "['\\x1b[38;5;196m'][E] Function: '_ipython_canary_method_should_not_exist_' was not registered for opset 17. \u001b[0m\n",
      "['\\x1b[38;5;196m'][E] Function: '_repr_latex_' was not registered for opset 17. \u001b[0m\n",
      "['\\x1b[38;5;196m'][E] Function: '_ipython_canary_method_should_not_exist_' was not registered for opset 17. \u001b[0m\n",
      "['\\x1b[38;5;196m'][E] Function: '_repr_json_' was not registered for opset 17. \u001b[0m\n",
      "['\\x1b[38;5;196m'][E] Function: '_ipython_canary_method_should_not_exist_' was not registered for opset 17. \u001b[0m\n",
      "['\\x1b[38;5;196m'][E] Function: '_repr_javascript_' was not registered for opset 17. \u001b[0m\n",
      "['\\x1b[38;5;196m'][E] Function: '_ipython_canary_method_should_not_exist_' was not registered for opset 17. \u001b[0m\n",
      "['\\x1b[38;5;196m'][E] Function: '_repr_dw_' was not registered for opset 17. \u001b[0m\n"
     ]
    },
    {
     "data": {
      "text/plain": [
       "Graph main_graph (Opset 17)\n",
       "Local Functions: []\n",
       "Inputs: [Variable (/pts_bbox_head/Concat_35_output_0): (shape=[1, 500, 9], dtype=float32)]\n",
       "Nodes: /pts_bbox_head/Slice_2 (Slice)\n",
       "\tInputs: [\n",
       "\t\tVariable (/pts_bbox_head/Concat_35_output_0): (shape=[1, 500, 9], dtype=float32)\n",
       "\t\tConstant (onnx::Unsqueeze_711): (shape=[1], dtype=int64)\n",
       "\t\tConstant (/img_view_transformer/Constant_19_output_0): (shape=[1], dtype=int64)\n",
       "\t\tConstant (/img_view_transformer/Constant_21_output_0): (shape=[1], dtype=int64)\n",
       "\t\tConstant (/Constant_8_output_0): (shape=[1], dtype=int64)\n",
       "\t]\n",
       "\tOutputs: [\n",
       "\t\tVariable (/pts_bbox_head/Slice_2_output_0): (shape=[1, 500, 3], dtype=float32)\n",
       "\t]\n",
       " (Squeeze)\n",
       "\tInputs: [\n",
       "\t\tVariable (/pts_bbox_head/Slice_2_output_0): (shape=[1, 500, 3], dtype=float32)\n",
       "\t]\n",
       "\tOutputs: [\n",
       "\t\tVariable (squeeze_output2): (shape=[500, 3], dtype=float32)\n",
       "\t]\n",
       " (Squeeze)\n",
       "\tInputs: [\n",
       "\t\tVariable (/pts_bbox_head/Slice_2_output_0): (shape=[1, 500, 3], dtype=float32)\n",
       "\t]\n",
       "\tOutputs: [\n",
       "\t\tVariable (squeeze_output1): (shape=[500, 3], dtype=float32)\n",
       "\t]\n",
       "/pts_bbox_head/GreaterOrEqual (GreaterOrEqual)\n",
       "\tInputs: [\n",
       "\t\tVariable (squeeze_output2): (shape=[500, 3], dtype=float32)\n",
       "\t\tConstant (/pts_bbox_head/Constant_141_output_0): (shape=[3], dtype=float32)\n",
       "\t]\n",
       "\tOutputs: [\n",
       "\t\tVariable (/pts_bbox_head/GreaterOrEqual_output_0): (shape=[1, 500, 3], dtype=bool)\n",
       "\t]\n",
       "/pts_bbox_head/LessOrEqual (LessOrEqual)\n",
       "\tInputs: [\n",
       "\t\tVariable (squeeze_output1): (shape=[500, 3], dtype=float32)\n",
       "\t\tConstant (/pts_bbox_head/Constant_144_output_0): (shape=[3], dtype=float32)\n",
       "\t]\n",
       "\tOutputs: [\n",
       "\t\tVariable (/pts_bbox_head/LessOrEqual_output_0): (shape=[1, 500, 3], dtype=bool)\n",
       "\t]\n",
       "/pts_bbox_head/Not (Not)\n",
       "\tInputs: [\n",
       "\t\tVariable (/pts_bbox_head/GreaterOrEqual_output_0): (shape=[1, 500, 3], dtype=bool)\n",
       "\t]\n",
       "\tOutputs: [\n",
       "\t\tVariable (/pts_bbox_head/Not_output_0): (shape=[1, 500, 3], dtype=bool)\n",
       "\t]\n",
       "/pts_bbox_head/Not_2 (Not)\n",
       "\tInputs: [\n",
       "\t\tVariable (/pts_bbox_head/LessOrEqual_output_0): (shape=[1, 500, 3], dtype=bool)\n",
       "\t]\n",
       "\tOutputs: [\n",
       "\t\tVariable (/pts_bbox_head/Not_2_output_0): (shape=[1, 500, 3], dtype=bool)\n",
       "\t]\n",
       "/pts_bbox_head/Cast_18 (Cast)\n",
       "\tInputs: [\n",
       "\t\tVariable (/pts_bbox_head/Not_output_0): (shape=[1, 500, 3], dtype=bool)\n",
       "\t]\n",
       "\tOutputs: [\n",
       "\t\tVariable (/pts_bbox_head/Cast_18_output_0): (shape=[1, 500, 3], dtype=int64)\n",
       "\t]\n",
       "Attributes: OrderedDict({'to': 7})\n",
       "/pts_bbox_head/Cast_20 (Cast)\n",
       "\tInputs: [\n",
       "\t\tVariable (/pts_bbox_head/Not_2_output_0): (shape=[1, 500, 3], dtype=bool)\n",
       "\t]\n",
       "\tOutputs: [\n",
       "\t\tVariable (/pts_bbox_head/Cast_20_output_0): (shape=[1, 500, 3], dtype=int64)\n",
       "\t]\n",
       "Attributes: OrderedDict({'to': 7})\n",
       "/pts_bbox_head/ReduceSum (ReduceSum)\n",
       "\tInputs: [\n",
       "\t\tVariable (/pts_bbox_head/Cast_18_output_0): (shape=[1, 500, 3], dtype=int64)\n",
       "\t\tConstant (/img_view_transformer/Constant_21_output_0): (shape=[1], dtype=int64)\n",
       "\t]\n",
       "\tOutputs: [\n",
       "\t\tVariable (/pts_bbox_head/ReduceSum_output_0): (shape=[1, 500], dtype=int64)\n",
       "\t]\n",
       "Attributes: OrderedDict({'keepdims': 0, 'noop_with_empty_axes': 0})\n",
       "/pts_bbox_head/ReduceSum_1 (ReduceSum)\n",
       "\tInputs: [\n",
       "\t\tVariable (/pts_bbox_head/Cast_20_output_0): (shape=[1, 500, 3], dtype=int64)\n",
       "\t\tConstant (/img_view_transformer/Constant_21_output_0): (shape=[1], dtype=int64)\n",
       "\t]\n",
       "\tOutputs: [\n",
       "\t\tVariable (/pts_bbox_head/ReduceSum_1_output_0): (shape=[1, 500], dtype=int64)\n",
       "\t]\n",
       "Attributes: OrderedDict({'keepdims': 0, 'noop_with_empty_axes': 0})\n",
       "/pts_bbox_head/Greater_2 (Greater)\n",
       "\tInputs: [\n",
       "\t\tVariable (/pts_bbox_head/ReduceSum_output_0): (shape=[1, 500], dtype=int64)\n",
       "\t\tConstant (/Constant_output_0): (shape=[], dtype=int64)\n",
       "\t]\n",
       "\tOutputs: [\n",
       "\t\tVariable (/pts_bbox_head/Greater_2_output_0): (shape=[1, 500], dtype=bool)\n",
       "\t]\n",
       "/pts_bbox_head/Greater_3 (Greater)\n",
       "\tInputs: [\n",
       "\t\tVariable (/pts_bbox_head/ReduceSum_1_output_0): (shape=[1, 500], dtype=int64)\n",
       "\t\tConstant (/Constant_output_0): (shape=[], dtype=int64)\n",
       "\t]\n",
       "\tOutputs: [\n",
       "\t\tVariable (/pts_bbox_head/Greater_3_output_0): (shape=[1, 500], dtype=bool)\n",
       "\t]\n",
       "/pts_bbox_head/Not_1 (Not)\n",
       "\tInputs: [\n",
       "\t\tVariable (/pts_bbox_head/Greater_2_output_0): (shape=[1, 500], dtype=bool)\n",
       "\t]\n",
       "\tOutputs: [\n",
       "\t\tVariable (/pts_bbox_head/Not_1_output_0): (shape=[1, 500], dtype=bool)\n",
       "\t]\n",
       "/pts_bbox_head/Not_3 (Not)\n",
       "\tInputs: [\n",
       "\t\tVariable (/pts_bbox_head/Greater_3_output_0): (shape=[1, 500], dtype=bool)\n",
       "\t]\n",
       "\tOutputs: [\n",
       "\t\tVariable (/pts_bbox_head/Not_3_output_0): (shape=[1, 500], dtype=bool)\n",
       "\t]\n",
       "/pts_bbox_head/Cast_19 (Cast)\n",
       "\tInputs: [\n",
       "\t\tVariable (/pts_bbox_head/Not_1_output_0): (shape=[1, 500], dtype=bool)\n",
       "\t]\n",
       "\tOutputs: [\n",
       "\t\tVariable (/pts_bbox_head/Cast_19_output_0): (shape=[1, 500], dtype=float32)\n",
       "\t]\n",
       "Attributes: OrderedDict({'to': 1})\n",
       "/pts_bbox_head/Cast_21 (Cast)\n",
       "\tInputs: [\n",
       "\t\tVariable (/pts_bbox_head/Not_3_output_0): (shape=[1, 500], dtype=bool)\n",
       "\t]\n",
       "\tOutputs: [\n",
       "\t\tVariable (/pts_bbox_head/Cast_21_output_0): (shape=[1, 500], dtype=float32)\n",
       "\t]\n",
       "Attributes: OrderedDict({'to': 1})\n",
       "/pts_bbox_head/Mul_16 (Mul)\n",
       "\tInputs: [\n",
       "\t\tVariable (/pts_bbox_head/Cast_19_output_0): (shape=[1, 500], dtype=float32)\n",
       "\t\tVariable (/pts_bbox_head/Cast_21_output_0): (shape=[1, 500], dtype=float32)\n",
       "\t]\n",
       "\tOutputs: [\n",
       "\t\tVariable (/pts_bbox_head/Mul_16_output_0): (shape=[1, 500], dtype=float32)\n",
       "\t]\n",
       "Outputs: [Variable (/pts_bbox_head/Mul_16_output_0): (shape=[1, 500], dtype=float32)]"
      ]
     },
     "execution_count": 510,
     "metadata": {},
     "output_type": "execute_result"
    }
   ],
   "source": [
    "\n",
    "# Step 2: Create a New Node (Example: Squeeze)\n",
    "squeeze_output1 = gs.Variable(name=\"squeeze_output1\", dtype=slice.outputs[0].dtype,shape=[500,3])\n",
    "sq_node1 = gs.Node(op=\"Squeeze\", inputs=[slice.outputs[0]], outputs=[squeeze_output1])\n",
    "\n",
    "squeeze_output2 = gs.Variable(name=\"squeeze_output2\", dtype=slice.outputs[0].dtype,shape=[500,3])\n",
    "sq_node2 = gs.Node(op=\"Squeeze\", inputs=[slice.outputs[0]], outputs=[squeeze_output2])\n",
    "\n",
    "# Step 3: Modify Connections\n",
    "less_or_eq.inputs[0] = sq_node1.outputs[0]\n",
    "great_or_eq.inputs[0] = sq_node2.outputs[0]\n",
    "\n",
    "sub_graph.nodes.extend([sq_node1,sq_node2])  # Add new node to the graph\n",
    "\n",
    "# Step 4: Save the Modified Model\n",
    "sub_graph.toposort()\n"
   ]
  },
  {
   "cell_type": "code",
   "execution_count": 511,
   "metadata": {},
   "outputs": [],
   "source": [
    "nodes=sub_graph.nodes\n",
    "\n",
    "cast1 = [node for node in sub_graph.nodes if node.name==\"/pts_bbox_head/Cast_19\"][0]\n",
    "cast2 = [node for node in sub_graph.nodes if node.name==\"/pts_bbox_head/Cast_21\"][0]\n",
    "\n"
   ]
  },
  {
   "cell_type": "code",
   "execution_count": 512,
   "metadata": {},
   "outputs": [],
   "source": [
    "\n",
    "unsqueeze_output1 = gs.Variable(name=\"unsqueeze_output1\", dtype=np.float32)\n",
    "unsqueeze_output2 = gs.Variable(name=\"unsqueeze_output2\", dtype=np.float32)\n",
    "unsqueeze_axes1 = gs.Constant(name=\"unsqueeze_axes1\", values=np.array([0]))  \n",
    "unsqueeze_axes2 = gs.Constant(name=\"unsqueeze_axes2\", values=np.array([0]))  \n",
    "\n",
    "unsqueeze_node1 = gs.Node (op=\"Unsqueeze\",inputs=[cast1.outputs[0],unsqueeze_axes1],outputs=[unsqueeze_output1])\n",
    "\n",
    "unsqueeze_node2 = gs.Node(\n",
    "    op=\"Unsqueeze\",\n",
    "    inputs=[cast2.outputs[0],unsqueeze_axes2],\n",
    "    outputs=[unsqueeze_output2]\n",
    ")\n",
    "\n",
    "mul = [node for node in sub_graph.nodes if node.op==\"Mul\"][0]\n",
    "\n",
    "\n",
    "mul.inputs[0] = unsqueeze_output1\n",
    "mul.inputs[1] = unsqueeze_output2\n",
    "\n",
    "sub_graph.nodes.extend([unsqueeze_node1,unsqueeze_node2])  \n",
    "\n",
    "reducesum1 = [node for node in sub_graph.nodes if node.op==\"ReduceSum\"][0]\n",
    "reducesum2 = [node for node in sub_graph.nodes if node.op==\"ReduceSum\"][1]\n",
    "reducesum_axes=gs.Constant(name=\"reducesum_axes\",values=np.array([1]))\n",
    "\n",
    "# re\n",
    "reducesum1.inputs[1]=reducesum_axes\n",
    "reducesum2.inputs[1]=reducesum_axes\n",
    "sub_graph.toposort()\n",
    "\n",
    "modified_model = gs.export_onnx(sub_graph)\n"
   ]
  },
  {
   "cell_type": "code",
   "execution_count": 513,
   "metadata": {},
   "outputs": [],
   "source": [
    "from onnxsim import simplify\n",
    "\n",
    "model_simp, check = simplify(modified_model)\n",
    "onnx.checker.check_model(model_simp)\n",
    "onnx.save(model_simp, \"sq_unsq.onnx\")"
   ]
  },
  {
   "cell_type": "markdown",
   "metadata": {},
   "source": [
    "## Modify Greater than Less Than Node"
   ]
  },
  {
   "cell_type": "code",
   "execution_count": 514,
   "metadata": {},
   "outputs": [],
   "source": [
    "model=onnx.load(\"sq_unsq.onnx\")\n",
    "\n",
    "graph=gs.import_onnx(model)"
   ]
  },
  {
   "cell_type": "code",
   "execution_count": 515,
   "metadata": {},
   "outputs": [
    {
     "data": {
      "text/plain": [
       "(/pts_bbox_head/LessOrEqual (LessOrEqual)\n",
       " \tInputs: [\n",
       " \t\tVariable (squeeze_output2): (shape=[500, 3], dtype=float32)\n",
       " \t\tConstant (/pts_bbox_head/Constant_144_output_0): (shape=[3], dtype=float32)\n",
       " \t]\n",
       " \tOutputs: [\n",
       " \t\tVariable (/pts_bbox_head/LessOrEqual_output_0): (shape=[1, 500, 3], dtype=bool)\n",
       " \t],\n",
       " /pts_bbox_head/GreaterOrEqual (GreaterOrEqual)\n",
       " \tInputs: [\n",
       " \t\tVariable (squeeze_output2): (shape=[500, 3], dtype=float32)\n",
       " \t\tConstant (/pts_bbox_head/Constant_141_output_0): (shape=[3], dtype=float32)\n",
       " \t]\n",
       " \tOutputs: [\n",
       " \t\tVariable (/pts_bbox_head/GreaterOrEqual_output_0): (shape=[1, 500, 3], dtype=bool)\n",
       " \t])"
      ]
     },
     "execution_count": 515,
     "metadata": {},
     "output_type": "execute_result"
    }
   ],
   "source": [
    "less_or_eq = [node for node in graph.nodes if node.op==\"LessOrEqual\"][0]\n",
    "great_or_eq = [node for node in graph.nodes if node.op==\"GreaterOrEqual\"][0]\n",
    "\n",
    "less_or_eq,great_or_eq"
   ]
  },
  {
   "cell_type": "code",
   "execution_count": 516,
   "metadata": {},
   "outputs": [
    {
     "name": "stdout",
     "output_type": "stream",
     "text": [
      "['\\x1b[38;5;11m'][W] Found distinct tensors that share the same name:\n",
      "[id: 3048844309456] Variable (/pts_bbox_head/GreaterOrEqual_output_0): (shape=[500, 3], dtype=<class 'numpy.float32'>)\n",
      "[id: 3048844667344] Variable (/pts_bbox_head/GreaterOrEqual_output_0): (shape=[1, 500, 3], dtype=bool)\n",
      "Note: Producer node(s) of first tensor:\n",
      "[/pts_bbox_head/GreaterOrEqual (GreaterOrEqual)\n",
      "\tInputs: [\n",
      "\t\tVariable (squeeze_output2): (shape=[500, 3], dtype=float32)\n",
      "\t\tConstant (/pts_bbox_head/Constant_141_output_0): (shape=[3], dtype=float32)\n",
      "\t]\n",
      "\tOutputs: [\n",
      "\t\tVariable (/pts_bbox_head/GreaterOrEqual_output_0): (shape=[500, 3], dtype=<class 'numpy.float32'>)\n",
      "\t]]\n",
      "Producer node(s) of second tensor:\n",
      "[]\u001b[0m\n",
      "['\\x1b[38;5;11m'][W] Found distinct tensors that share the same name:\n",
      "[id: 3048817269584] Variable (/pts_bbox_head/LessOrEqual_output_0): (shape=[500, 3], dtype=<class 'numpy.float32'>)\n",
      "[id: 3048844666832] Variable (/pts_bbox_head/LessOrEqual_output_0): (shape=[1, 500, 3], dtype=bool)\n",
      "Note: Producer node(s) of first tensor:\n",
      "[/pts_bbox_head/LessOrEqual (LessOrEqual)\n",
      "\tInputs: [\n",
      "\t\tVariable (squeeze_output2): (shape=[500, 3], dtype=float32)\n",
      "\t\tConstant (/pts_bbox_head/Constant_144_output_0): (shape=[3], dtype=float32)\n",
      "\t]\n",
      "\tOutputs: [\n",
      "\t\tVariable (/pts_bbox_head/LessOrEqual_output_0): (shape=[500, 3], dtype=<class 'numpy.float32'>)\n",
      "\t]]\n",
      "Producer node(s) of second tensor:\n",
      "[]\u001b[0m\n"
     ]
    }
   ],
   "source": [
    "\n",
    "\n",
    "less_or_eq.outputs[0]=gs.Variable(name=\"/pts_bbox_head/LessOrEqual_output_0\",dtype=np.float32,shape=[500,3])\n",
    "great_or_eq.outputs[0]=gs.Variable(name=\"/pts_bbox_head/GreaterOrEqual_output_0\",dtype=np.float32,shape=[500,3])\n",
    "\n",
    "\n",
    "tensors =graph.tensors()\n",
    "\n",
    "less_or_eq_const=[tensors['/pts_bbox_head/Constant_144_output_0']]\n",
    "great_or_eq_const=[tensors['/pts_bbox_head/Constant_141_output_0']]\n",
    "\n",
    "less_or_eq.inputs[1]=gs.Constant(name=\"/pts_bbox_head/Constant_144_output_0\",values=np.reshape(less_or_eq_const[0].values,shape=(1,3)))\n",
    "great_or_eq.inputs[1]=gs.Constant(name=\"/pts_bbox_head/Constant_141_output_0\",values=np.reshape(great_or_eq_const[0].values,shape=(1,3)))\n",
    "\n"
   ]
  },
  {
   "cell_type": "code",
   "execution_count": 517,
   "metadata": {},
   "outputs": [
    {
     "data": {
      "text/plain": [
       "(/pts_bbox_head/LessOrEqual (LessOrEqual)\n",
       " \tInputs: [\n",
       " \t\tVariable (squeeze_output2): (shape=[500, 3], dtype=float32)\n",
       " \t\tConstant (/pts_bbox_head/Constant_144_output_0): (shape=(1, 3), dtype=float32)\n",
       " \t]\n",
       " \tOutputs: [\n",
       " \t\tVariable (/pts_bbox_head/LessOrEqual_output_0): (shape=[500, 3], dtype=<class 'numpy.float32'>)\n",
       " \t],\n",
       " /pts_bbox_head/GreaterOrEqual (GreaterOrEqual)\n",
       " \tInputs: [\n",
       " \t\tVariable (squeeze_output2): (shape=[500, 3], dtype=float32)\n",
       " \t\tConstant (/pts_bbox_head/Constant_141_output_0): (shape=(1, 3), dtype=float32)\n",
       " \t]\n",
       " \tOutputs: [\n",
       " \t\tVariable (/pts_bbox_head/GreaterOrEqual_output_0): (shape=[500, 3], dtype=<class 'numpy.float32'>)\n",
       " \t])"
      ]
     },
     "execution_count": 517,
     "metadata": {},
     "output_type": "execute_result"
    }
   ],
   "source": [
    "less_or_eq = [node for node in graph.nodes if node.op==\"LessOrEqual\"][0]\n",
    "great_or_eq = [node for node in graph.nodes if node.op==\"GreaterOrEqual\"][0]\n",
    "\n",
    "less_or_eq,great_or_eq"
   ]
  },
  {
   "cell_type": "code",
   "execution_count": 518,
   "metadata": {},
   "outputs": [
    {
     "name": "stdout",
     "output_type": "stream",
     "text": [
      "['\\x1b[38;5;11m'][W] Found distinct tensors that share the same name:\n",
      "[id: 3048844309456] Variable (/pts_bbox_head/GreaterOrEqual_output_0): (shape=[500, 3], dtype=<class 'numpy.float32'>)\n",
      "[id: 3048844667344] Variable (/pts_bbox_head/GreaterOrEqual_output_0): (shape=[1, 500, 3], dtype=bool)\n",
      "Note: Producer node(s) of first tensor:\n",
      "[/pts_bbox_head/GreaterOrEqual (GreaterOrEqual)\n",
      "\tInputs: [\n",
      "\t\tVariable (squeeze_output2): (shape=[500, 3], dtype=float32)\n",
      "\t\tConstant (/pts_bbox_head/Constant_141_output_0): (shape=(1, 3), dtype=float32)\n",
      "\t]\n",
      "\tOutputs: [\n",
      "\t\tVariable (/pts_bbox_head/GreaterOrEqual_output_0): (shape=[500, 3], dtype=<class 'numpy.float32'>)\n",
      "\t]]\n",
      "Producer node(s) of second tensor:\n",
      "[]\u001b[0m\n",
      "['\\x1b[38;5;11m'][W] Found distinct tensors that share the same name:\n",
      "[id: 3048817269584] Variable (/pts_bbox_head/LessOrEqual_output_0): (shape=[500, 3], dtype=<class 'numpy.float32'>)\n",
      "[id: 3048844666832] Variable (/pts_bbox_head/LessOrEqual_output_0): (shape=[1, 500, 3], dtype=bool)\n",
      "Note: Producer node(s) of first tensor:\n",
      "[/pts_bbox_head/LessOrEqual (LessOrEqual)\n",
      "\tInputs: [\n",
      "\t\tVariable (squeeze_output2): (shape=[500, 3], dtype=float32)\n",
      "\t\tConstant (/pts_bbox_head/Constant_144_output_0): (shape=(1, 3), dtype=float32)\n",
      "\t]\n",
      "\tOutputs: [\n",
      "\t\tVariable (/pts_bbox_head/LessOrEqual_output_0): (shape=[500, 3], dtype=<class 'numpy.float32'>)\n",
      "\t]]\n",
      "Producer node(s) of second tensor:\n",
      "[]\u001b[0m\n"
     ]
    },
    {
     "data": {
      "text/html": [
       "<pre style=\"white-space:pre;overflow-x:auto;line-height:normal;font-family:Menlo,'DejaVu Sans Mono',consolas,'Courier New',monospace\">\n",
       "ONNX model <span style=\"color: #008000; text-decoration-color: #008000\">'final.onnx'</span> generated successfully!\n",
       "</pre>\n"
      ],
      "text/plain": [
       "\n",
       "ONNX model \u001b[32m'final.onnx'\u001b[0m generated successfully!\n"
      ]
     },
     "metadata": {},
     "output_type": "display_data"
    }
   ],
   "source": [
    "sub_model=gs.export_onnx(graph)\n",
    "\n",
    "onnx.checker.check_model(sub_model)\n",
    "\n",
    "onnx.save(sub_model, \"final.onnx\")\n",
    "\n",
    "print(\"\\nONNX model 'final.onnx' generated successfully!\")"
   ]
  },
  {
   "cell_type": "markdown",
   "metadata": {},
   "source": [
    "## Debugging"
   ]
  },
  {
   "cell_type": "code",
   "execution_count": 519,
   "metadata": {},
   "outputs": [
    {
     "data": {
      "text/html": [
       "<pre style=\"white-space:pre;overflow-x:auto;line-height:normal;font-family:Menlo,'DejaVu Sans Mono',consolas,'Courier New',monospace\"><span style=\"font-weight: bold\">(</span><span style=\"color: #008080; text-decoration-color: #008080; font-weight: bold\">1</span>, <span style=\"color: #008080; text-decoration-color: #008080; font-weight: bold\">500</span>, <span style=\"color: #008080; text-decoration-color: #008080; font-weight: bold\">3</span><span style=\"font-weight: bold\">)</span>\n",
       "</pre>\n"
      ],
      "text/plain": [
       "\u001b[1m(\u001b[0m\u001b[1;36m1\u001b[0m, \u001b[1;36m500\u001b[0m, \u001b[1;36m3\u001b[0m\u001b[1m)\u001b[0m\n"
      ]
     },
     "metadata": {},
     "output_type": "display_data"
    }
   ],
   "source": [
    "model=onnx.load(\"sq_unsq.onnx\")\n",
    "graph=gs.import_onnx(model)\n",
    "tensors=graph.tensors()\n",
    "\n",
    "\n",
    "graph.inputs=[tensors['/pts_bbox_head/Concat_35_output_0']]\n",
    "graph.outputs=[tensors['squeeze_output2']]\n",
    "\n",
    "graph.cleanup()\n",
    "\n",
    "sub_model=gs.export_onnx(graph)\n",
    "\n",
    "onnx.checker.check_model(sub_model)\n",
    "\n",
    "session = ort.InferenceSession(sub_model.SerializeToString())\n",
    "\n",
    "input_value=np.random.randn(1,500,9).astype(np.float32)\n",
    "inputs = [x.name for x in session.get_inputs()]\n",
    "\n",
    "\n",
    "output=session.run(None,{inputs[0]:input_value})\n",
    "\n",
    "onnx.save(sub_model,\"debug.onnx\")\n",
    "\n",
    "print(np.array(output).shape)"
   ]
  },
  {
   "cell_type": "code",
   "execution_count": 522,
   "metadata": {},
   "outputs": [
    {
     "data": {
      "text/html": [
       "<pre style=\"white-space:pre;overflow-x:auto;line-height:normal;font-family:Menlo,'DejaVu Sans Mono',consolas,'Courier New',monospace\">Layer : <span style=\"color: #800080; text-decoration-color: #800080\">/pts_bbox_head/</span><span style=\"color: #ff00ff; text-decoration-color: #ff00ff\">Mul_16_output_0</span> Shape :<span style=\"font-weight: bold\">(</span><span style=\"color: #008080; text-decoration-color: #008080; font-weight: bold\">1</span>, <span style=\"color: #008080; text-decoration-color: #008080; font-weight: bold\">500</span><span style=\"font-weight: bold\">)</span>\n",
       "</pre>\n"
      ],
      "text/plain": [
       "Layer : \u001b[35m/pts_bbox_head/\u001b[0m\u001b[95mMul_16_output_0\u001b[0m Shape :\u001b[1m(\u001b[0m\u001b[1;36m1\u001b[0m, \u001b[1;36m500\u001b[0m\u001b[1m)\u001b[0m\n"
      ]
     },
     "metadata": {},
     "output_type": "display_data"
    },
    {
     "data": {
      "text/html": [
       "<pre style=\"white-space:pre;overflow-x:auto;line-height:normal;font-family:Menlo,'DejaVu Sans Mono',consolas,'Courier New',monospace\">Layer : <span style=\"color: #800080; text-decoration-color: #800080\">/pts_bbox_head/</span><span style=\"color: #ff00ff; text-decoration-color: #ff00ff\">Slice_2_output_0</span> Shape :<span style=\"font-weight: bold\">(</span><span style=\"color: #008080; text-decoration-color: #008080; font-weight: bold\">1</span>, <span style=\"color: #008080; text-decoration-color: #008080; font-weight: bold\">500</span>, <span style=\"color: #008080; text-decoration-color: #008080; font-weight: bold\">3</span><span style=\"font-weight: bold\">)</span>\n",
       "</pre>\n"
      ],
      "text/plain": [
       "Layer : \u001b[35m/pts_bbox_head/\u001b[0m\u001b[95mSlice_2_output_0\u001b[0m Shape :\u001b[1m(\u001b[0m\u001b[1;36m1\u001b[0m, \u001b[1;36m500\u001b[0m, \u001b[1;36m3\u001b[0m\u001b[1m)\u001b[0m\n"
      ]
     },
     "metadata": {},
     "output_type": "display_data"
    },
    {
     "data": {
      "text/html": [
       "<pre style=\"white-space:pre;overflow-x:auto;line-height:normal;font-family:Menlo,'DejaVu Sans Mono',consolas,'Courier New',monospace\">Layer : squeeze_output2 Shape :<span style=\"font-weight: bold\">(</span><span style=\"color: #008080; text-decoration-color: #008080; font-weight: bold\">500</span>, <span style=\"color: #008080; text-decoration-color: #008080; font-weight: bold\">3</span><span style=\"font-weight: bold\">)</span>\n",
       "</pre>\n"
      ],
      "text/plain": [
       "Layer : squeeze_output2 Shape :\u001b[1m(\u001b[0m\u001b[1;36m500\u001b[0m, \u001b[1;36m3\u001b[0m\u001b[1m)\u001b[0m\n"
      ]
     },
     "metadata": {},
     "output_type": "display_data"
    },
    {
     "data": {
      "text/html": [
       "<pre style=\"white-space:pre;overflow-x:auto;line-height:normal;font-family:Menlo,'DejaVu Sans Mono',consolas,'Courier New',monospace\">Layer : <span style=\"color: #800080; text-decoration-color: #800080\">/pts_bbox_head/</span><span style=\"color: #ff00ff; text-decoration-color: #ff00ff\">GreaterOrEqual_output_0</span> Shape :<span style=\"font-weight: bold\">(</span><span style=\"color: #008080; text-decoration-color: #008080; font-weight: bold\">500</span>, <span style=\"color: #008080; text-decoration-color: #008080; font-weight: bold\">3</span><span style=\"font-weight: bold\">)</span>\n",
       "</pre>\n"
      ],
      "text/plain": [
       "Layer : \u001b[35m/pts_bbox_head/\u001b[0m\u001b[95mGreaterOrEqual_output_0\u001b[0m Shape :\u001b[1m(\u001b[0m\u001b[1;36m500\u001b[0m, \u001b[1;36m3\u001b[0m\u001b[1m)\u001b[0m\n"
      ]
     },
     "metadata": {},
     "output_type": "display_data"
    },
    {
     "data": {
      "text/html": [
       "<pre style=\"white-space:pre;overflow-x:auto;line-height:normal;font-family:Menlo,'DejaVu Sans Mono',consolas,'Courier New',monospace\">Layer : <span style=\"color: #800080; text-decoration-color: #800080\">/pts_bbox_head/</span><span style=\"color: #ff00ff; text-decoration-color: #ff00ff\">LessOrEqual_output_0</span> Shape :<span style=\"font-weight: bold\">(</span><span style=\"color: #008080; text-decoration-color: #008080; font-weight: bold\">500</span>, <span style=\"color: #008080; text-decoration-color: #008080; font-weight: bold\">3</span><span style=\"font-weight: bold\">)</span>\n",
       "</pre>\n"
      ],
      "text/plain": [
       "Layer : \u001b[35m/pts_bbox_head/\u001b[0m\u001b[95mLessOrEqual_output_0\u001b[0m Shape :\u001b[1m(\u001b[0m\u001b[1;36m500\u001b[0m, \u001b[1;36m3\u001b[0m\u001b[1m)\u001b[0m\n"
      ]
     },
     "metadata": {},
     "output_type": "display_data"
    },
    {
     "data": {
      "text/html": [
       "<pre style=\"white-space:pre;overflow-x:auto;line-height:normal;font-family:Menlo,'DejaVu Sans Mono',consolas,'Courier New',monospace\">Layer : <span style=\"color: #800080; text-decoration-color: #800080\">/pts_bbox_head/</span><span style=\"color: #ff00ff; text-decoration-color: #ff00ff\">Not_output_0</span> Shape :<span style=\"font-weight: bold\">(</span><span style=\"color: #008080; text-decoration-color: #008080; font-weight: bold\">500</span>, <span style=\"color: #008080; text-decoration-color: #008080; font-weight: bold\">3</span><span style=\"font-weight: bold\">)</span>\n",
       "</pre>\n"
      ],
      "text/plain": [
       "Layer : \u001b[35m/pts_bbox_head/\u001b[0m\u001b[95mNot_output_0\u001b[0m Shape :\u001b[1m(\u001b[0m\u001b[1;36m500\u001b[0m, \u001b[1;36m3\u001b[0m\u001b[1m)\u001b[0m\n"
      ]
     },
     "metadata": {},
     "output_type": "display_data"
    },
    {
     "data": {
      "text/html": [
       "<pre style=\"white-space:pre;overflow-x:auto;line-height:normal;font-family:Menlo,'DejaVu Sans Mono',consolas,'Courier New',monospace\">Layer : <span style=\"color: #800080; text-decoration-color: #800080\">/pts_bbox_head/</span><span style=\"color: #ff00ff; text-decoration-color: #ff00ff\">Not_2_output_0</span> Shape :<span style=\"font-weight: bold\">(</span><span style=\"color: #008080; text-decoration-color: #008080; font-weight: bold\">500</span>, <span style=\"color: #008080; text-decoration-color: #008080; font-weight: bold\">3</span><span style=\"font-weight: bold\">)</span>\n",
       "</pre>\n"
      ],
      "text/plain": [
       "Layer : \u001b[35m/pts_bbox_head/\u001b[0m\u001b[95mNot_2_output_0\u001b[0m Shape :\u001b[1m(\u001b[0m\u001b[1;36m500\u001b[0m, \u001b[1;36m3\u001b[0m\u001b[1m)\u001b[0m\n"
      ]
     },
     "metadata": {},
     "output_type": "display_data"
    },
    {
     "data": {
      "text/html": [
       "<pre style=\"white-space:pre;overflow-x:auto;line-height:normal;font-family:Menlo,'DejaVu Sans Mono',consolas,'Courier New',monospace\">Layer : <span style=\"color: #800080; text-decoration-color: #800080\">/pts_bbox_head/</span><span style=\"color: #ff00ff; text-decoration-color: #ff00ff\">Cast_18_output_0</span> Shape :<span style=\"font-weight: bold\">(</span><span style=\"color: #008080; text-decoration-color: #008080; font-weight: bold\">500</span>, <span style=\"color: #008080; text-decoration-color: #008080; font-weight: bold\">3</span><span style=\"font-weight: bold\">)</span>\n",
       "</pre>\n"
      ],
      "text/plain": [
       "Layer : \u001b[35m/pts_bbox_head/\u001b[0m\u001b[95mCast_18_output_0\u001b[0m Shape :\u001b[1m(\u001b[0m\u001b[1;36m500\u001b[0m, \u001b[1;36m3\u001b[0m\u001b[1m)\u001b[0m\n"
      ]
     },
     "metadata": {},
     "output_type": "display_data"
    },
    {
     "data": {
      "text/html": [
       "<pre style=\"white-space:pre;overflow-x:auto;line-height:normal;font-family:Menlo,'DejaVu Sans Mono',consolas,'Courier New',monospace\">Layer : <span style=\"color: #800080; text-decoration-color: #800080\">/pts_bbox_head/</span><span style=\"color: #ff00ff; text-decoration-color: #ff00ff\">Cast_20_output_0</span> Shape :<span style=\"font-weight: bold\">(</span><span style=\"color: #008080; text-decoration-color: #008080; font-weight: bold\">500</span>, <span style=\"color: #008080; text-decoration-color: #008080; font-weight: bold\">3</span><span style=\"font-weight: bold\">)</span>\n",
       "</pre>\n"
      ],
      "text/plain": [
       "Layer : \u001b[35m/pts_bbox_head/\u001b[0m\u001b[95mCast_20_output_0\u001b[0m Shape :\u001b[1m(\u001b[0m\u001b[1;36m500\u001b[0m, \u001b[1;36m3\u001b[0m\u001b[1m)\u001b[0m\n"
      ]
     },
     "metadata": {},
     "output_type": "display_data"
    },
    {
     "data": {
      "text/html": [
       "<pre style=\"white-space:pre;overflow-x:auto;line-height:normal;font-family:Menlo,'DejaVu Sans Mono',consolas,'Courier New',monospace\">Layer : <span style=\"color: #800080; text-decoration-color: #800080\">/pts_bbox_head/</span><span style=\"color: #ff00ff; text-decoration-color: #ff00ff\">ReduceSum_output_0</span> Shape :<span style=\"font-weight: bold\">(</span><span style=\"color: #008080; text-decoration-color: #008080; font-weight: bold\">500</span>,<span style=\"font-weight: bold\">)</span>\n",
       "</pre>\n"
      ],
      "text/plain": [
       "Layer : \u001b[35m/pts_bbox_head/\u001b[0m\u001b[95mReduceSum_output_0\u001b[0m Shape :\u001b[1m(\u001b[0m\u001b[1;36m500\u001b[0m,\u001b[1m)\u001b[0m\n"
      ]
     },
     "metadata": {},
     "output_type": "display_data"
    },
    {
     "data": {
      "text/html": [
       "<pre style=\"white-space:pre;overflow-x:auto;line-height:normal;font-family:Menlo,'DejaVu Sans Mono',consolas,'Courier New',monospace\">Layer : <span style=\"color: #800080; text-decoration-color: #800080\">/pts_bbox_head/</span><span style=\"color: #ff00ff; text-decoration-color: #ff00ff\">ReduceSum_1_output_0</span> Shape :<span style=\"font-weight: bold\">(</span><span style=\"color: #008080; text-decoration-color: #008080; font-weight: bold\">500</span>,<span style=\"font-weight: bold\">)</span>\n",
       "</pre>\n"
      ],
      "text/plain": [
       "Layer : \u001b[35m/pts_bbox_head/\u001b[0m\u001b[95mReduceSum_1_output_0\u001b[0m Shape :\u001b[1m(\u001b[0m\u001b[1;36m500\u001b[0m,\u001b[1m)\u001b[0m\n"
      ]
     },
     "metadata": {},
     "output_type": "display_data"
    },
    {
     "data": {
      "text/html": [
       "<pre style=\"white-space:pre;overflow-x:auto;line-height:normal;font-family:Menlo,'DejaVu Sans Mono',consolas,'Courier New',monospace\">Layer : <span style=\"color: #800080; text-decoration-color: #800080\">/pts_bbox_head/</span><span style=\"color: #ff00ff; text-decoration-color: #ff00ff\">Greater_2_output_0</span> Shape :<span style=\"font-weight: bold\">(</span><span style=\"color: #008080; text-decoration-color: #008080; font-weight: bold\">500</span>,<span style=\"font-weight: bold\">)</span>\n",
       "</pre>\n"
      ],
      "text/plain": [
       "Layer : \u001b[35m/pts_bbox_head/\u001b[0m\u001b[95mGreater_2_output_0\u001b[0m Shape :\u001b[1m(\u001b[0m\u001b[1;36m500\u001b[0m,\u001b[1m)\u001b[0m\n"
      ]
     },
     "metadata": {},
     "output_type": "display_data"
    },
    {
     "data": {
      "text/html": [
       "<pre style=\"white-space:pre;overflow-x:auto;line-height:normal;font-family:Menlo,'DejaVu Sans Mono',consolas,'Courier New',monospace\">Layer : <span style=\"color: #800080; text-decoration-color: #800080\">/pts_bbox_head/</span><span style=\"color: #ff00ff; text-decoration-color: #ff00ff\">Greater_3_output_0</span> Shape :<span style=\"font-weight: bold\">(</span><span style=\"color: #008080; text-decoration-color: #008080; font-weight: bold\">500</span>,<span style=\"font-weight: bold\">)</span>\n",
       "</pre>\n"
      ],
      "text/plain": [
       "Layer : \u001b[35m/pts_bbox_head/\u001b[0m\u001b[95mGreater_3_output_0\u001b[0m Shape :\u001b[1m(\u001b[0m\u001b[1;36m500\u001b[0m,\u001b[1m)\u001b[0m\n"
      ]
     },
     "metadata": {},
     "output_type": "display_data"
    },
    {
     "data": {
      "text/html": [
       "<pre style=\"white-space:pre;overflow-x:auto;line-height:normal;font-family:Menlo,'DejaVu Sans Mono',consolas,'Courier New',monospace\">Layer : <span style=\"color: #800080; text-decoration-color: #800080\">/pts_bbox_head/</span><span style=\"color: #ff00ff; text-decoration-color: #ff00ff\">Not_1_output_0</span> Shape :<span style=\"font-weight: bold\">(</span><span style=\"color: #008080; text-decoration-color: #008080; font-weight: bold\">500</span>,<span style=\"font-weight: bold\">)</span>\n",
       "</pre>\n"
      ],
      "text/plain": [
       "Layer : \u001b[35m/pts_bbox_head/\u001b[0m\u001b[95mNot_1_output_0\u001b[0m Shape :\u001b[1m(\u001b[0m\u001b[1;36m500\u001b[0m,\u001b[1m)\u001b[0m\n"
      ]
     },
     "metadata": {},
     "output_type": "display_data"
    },
    {
     "data": {
      "text/html": [
       "<pre style=\"white-space:pre;overflow-x:auto;line-height:normal;font-family:Menlo,'DejaVu Sans Mono',consolas,'Courier New',monospace\">Layer : <span style=\"color: #800080; text-decoration-color: #800080\">/pts_bbox_head/</span><span style=\"color: #ff00ff; text-decoration-color: #ff00ff\">Not_3_output_0</span> Shape :<span style=\"font-weight: bold\">(</span><span style=\"color: #008080; text-decoration-color: #008080; font-weight: bold\">500</span>,<span style=\"font-weight: bold\">)</span>\n",
       "</pre>\n"
      ],
      "text/plain": [
       "Layer : \u001b[35m/pts_bbox_head/\u001b[0m\u001b[95mNot_3_output_0\u001b[0m Shape :\u001b[1m(\u001b[0m\u001b[1;36m500\u001b[0m,\u001b[1m)\u001b[0m\n"
      ]
     },
     "metadata": {},
     "output_type": "display_data"
    },
    {
     "data": {
      "text/html": [
       "<pre style=\"white-space:pre;overflow-x:auto;line-height:normal;font-family:Menlo,'DejaVu Sans Mono',consolas,'Courier New',monospace\">Layer : <span style=\"color: #800080; text-decoration-color: #800080\">/pts_bbox_head/</span><span style=\"color: #ff00ff; text-decoration-color: #ff00ff\">Cast_19_output_0</span> Shape :<span style=\"font-weight: bold\">(</span><span style=\"color: #008080; text-decoration-color: #008080; font-weight: bold\">500</span>,<span style=\"font-weight: bold\">)</span>\n",
       "</pre>\n"
      ],
      "text/plain": [
       "Layer : \u001b[35m/pts_bbox_head/\u001b[0m\u001b[95mCast_19_output_0\u001b[0m Shape :\u001b[1m(\u001b[0m\u001b[1;36m500\u001b[0m,\u001b[1m)\u001b[0m\n"
      ]
     },
     "metadata": {},
     "output_type": "display_data"
    },
    {
     "data": {
      "text/html": [
       "<pre style=\"white-space:pre;overflow-x:auto;line-height:normal;font-family:Menlo,'DejaVu Sans Mono',consolas,'Courier New',monospace\">Layer : <span style=\"color: #800080; text-decoration-color: #800080\">/pts_bbox_head/</span><span style=\"color: #ff00ff; text-decoration-color: #ff00ff\">Cast_21_output_0</span> Shape :<span style=\"font-weight: bold\">(</span><span style=\"color: #008080; text-decoration-color: #008080; font-weight: bold\">500</span>,<span style=\"font-weight: bold\">)</span>\n",
       "</pre>\n"
      ],
      "text/plain": [
       "Layer : \u001b[35m/pts_bbox_head/\u001b[0m\u001b[95mCast_21_output_0\u001b[0m Shape :\u001b[1m(\u001b[0m\u001b[1;36m500\u001b[0m,\u001b[1m)\u001b[0m\n"
      ]
     },
     "metadata": {},
     "output_type": "display_data"
    },
    {
     "data": {
      "text/html": [
       "<pre style=\"white-space:pre;overflow-x:auto;line-height:normal;font-family:Menlo,'DejaVu Sans Mono',consolas,'Courier New',monospace\">Layer : unsqueeze_output1 Shape :<span style=\"font-weight: bold\">(</span><span style=\"color: #008080; text-decoration-color: #008080; font-weight: bold\">1</span>, <span style=\"color: #008080; text-decoration-color: #008080; font-weight: bold\">500</span><span style=\"font-weight: bold\">)</span>\n",
       "</pre>\n"
      ],
      "text/plain": [
       "Layer : unsqueeze_output1 Shape :\u001b[1m(\u001b[0m\u001b[1;36m1\u001b[0m, \u001b[1;36m500\u001b[0m\u001b[1m)\u001b[0m\n"
      ]
     },
     "metadata": {},
     "output_type": "display_data"
    },
    {
     "data": {
      "text/html": [
       "<pre style=\"white-space:pre;overflow-x:auto;line-height:normal;font-family:Menlo,'DejaVu Sans Mono',consolas,'Courier New',monospace\">Layer : unsqueeze_output2 Shape :<span style=\"font-weight: bold\">(</span><span style=\"color: #008080; text-decoration-color: #008080; font-weight: bold\">1</span>, <span style=\"color: #008080; text-decoration-color: #008080; font-weight: bold\">500</span><span style=\"font-weight: bold\">)</span>\n",
       "</pre>\n"
      ],
      "text/plain": [
       "Layer : unsqueeze_output2 Shape :\u001b[1m(\u001b[0m\u001b[1;36m1\u001b[0m, \u001b[1;36m500\u001b[0m\u001b[1m)\u001b[0m\n"
      ]
     },
     "metadata": {},
     "output_type": "display_data"
    }
   ],
   "source": [
    "import onnxruntime as ort\n",
    "import onnx\n",
    "import numpy as np\n",
    "from collections import OrderedDict\n",
    "\n",
    "# file=\"debug.onnx\"\n",
    "\n",
    "file=\"final.onnx\"\n",
    "\n",
    "ort_session_1 = ort.InferenceSession(file)\n",
    "org_outputs = [x.name for x in ort_session_1.get_outputs()]\n",
    "\n",
    "model = onnx.load(file)\n",
    "for node in model.graph.node:\n",
    "    for output in node.output:\n",
    "        if output not in org_outputs:\n",
    "            model.graph.output.extend([onnx.ValueInfoProto(name=output)])\n",
    " \n",
    "ort_session = ort.InferenceSession(model.SerializeToString())\n",
    "\n",
    "outputs = [x.name for x in ort_session.get_outputs()]\n",
    "inputs = [x.name for x in ort_session.get_inputs()]\n",
    "input_shape = ort_session.get_inputs()[0].shape\n",
    "\n",
    "input_value=np.random.randn(1,500,9).astype(np.float32)\n",
    "\n",
    "\n",
    "ort_outs = ort_session.run(None, input_feed={inputs[0]:input_value})\n",
    "\n",
    "\n",
    "from collections import OrderedDict\n",
    "ort_outs = OrderedDict(zip(outputs, ort_outs))\n",
    "\n",
    "for key in ort_outs.keys():\n",
    "    print(f\"Layer : {key} Shape :{ort_outs[key].shape}\")"
   ]
  },
  {
   "cell_type": "markdown",
   "metadata": {},
   "source": [
    "## MSE"
   ]
  },
  {
   "cell_type": "code",
   "execution_count": 524,
   "metadata": {},
   "outputs": [
    {
     "data": {
      "text/html": [
       "<pre style=\"white-space:pre;overflow-x:auto;line-height:normal;font-family:Menlo,'DejaVu Sans Mono',consolas,'Courier New',monospace\"><span style=\"color: #800080; text-decoration-color: #800080; font-weight: bold\">tensor</span><span style=\"font-weight: bold\">(</span><span style=\"color: #008080; text-decoration-color: #008080; font-weight: bold\">0</span>.<span style=\"font-weight: bold\">)</span>\n",
       "</pre>\n"
      ],
      "text/plain": [
       "\u001b[1;35mtensor\u001b[0m\u001b[1m(\u001b[0m\u001b[1;36m0\u001b[0m.\u001b[1m)\u001b[0m\n"
      ]
     },
     "metadata": {},
     "output_type": "display_data"
    }
   ],
   "source": [
    "\n",
    "session = ort.InferenceSession(\"final.onnx\")\n",
    "input_value=np.random.randn(1,500,9).astype(np.float32)\n",
    "output1= session.run(None, input_feed={inputs[0]:input_value})\n",
    "\n",
    "\n",
    "session = ort.InferenceSession(\"mul_isolated.onnx\")\n",
    "input_value=np.random.randn(1,500,9).astype(np.float32)\n",
    "output2= session.run(None, input_feed={inputs[0]:input_value})\n",
    "\n",
    "\n",
    "\n",
    "original_output = torch.tensor(output1[0], dtype=torch.float32)\n",
    "modified_output = torch.tensor(output2[0],dtype=torch.float32)\n",
    "\n",
    "\n",
    "mse = torch.nn.functional.mse_loss(original_output, modified_output)\n",
    "\n",
    "print(mse)"
   ]
  }
 ],
 "metadata": {
  "kernelspec": {
   "display_name": "mlenv",
   "language": "python",
   "name": "python3"
  },
  "language_info": {
   "codemirror_mode": {
    "name": "ipython",
    "version": 3
   },
   "file_extension": ".py",
   "mimetype": "text/x-python",
   "name": "python",
   "nbconvert_exporter": "python",
   "pygments_lexer": "ipython3",
   "version": "3.13.1"
  }
 },
 "nbformat": 4,
 "nbformat_minor": 2
}
