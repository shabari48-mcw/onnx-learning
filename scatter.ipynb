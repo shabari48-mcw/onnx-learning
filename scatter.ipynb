{
 "cells": [
  {
   "cell_type": "code",
   "execution_count": null,
   "metadata": {},
   "outputs": [],
   "source": [
    "import onnx\n",
    "import onnx_graphsurgeon as gs\n",
    "import onnxruntime as ort\n",
    "import torch\n",
    "import numpy as np\n",
    "from rich import print\n",
    "from onnx import TensorProto"
   ]
  },
  {
   "cell_type": "code",
   "execution_count": 88,
   "metadata": {},
   "outputs": [],
   "source": [
    "data_np = np.array([[1.0, 2.0, 3.0, 4.0, 5.0]],dtype=np.float32)\n",
    "indices_np = np.array([[1, 3]],dtype=np.int64)\n",
    "updates_np = np.array([[1.1, 2.1]],dtype=np.float32)"
   ]
  },
  {
   "cell_type": "code",
   "execution_count": 2,
   "metadata": {},
   "outputs": [],
   "source": [
    "data_np = np.array([[0.0, 0.0, 0.0],\n",
    "                    [0.0, 0.0, 0.0],\n",
    "                    [0.0, 0.0, 0.0]], dtype=np.float32)\n",
    "\n",
    "indices_np = np.array([[1, 0, 2],\n",
    "                            [0, 2, 1]], dtype=np.int64)\n",
    "\n",
    "updates_np = np.array([[1.0, 1.1, 1.2],\n",
    "                       [2.0, 2.1, 2.2]], dtype=np.float32)\n"
   ]
  },
  {
   "cell_type": "code",
   "execution_count": 6,
   "metadata": {},
   "outputs": [
    {
     "data": {
      "text/plain": [
       "(2, 2, 2)"
      ]
     },
     "execution_count": 6,
     "metadata": {},
     "output_type": "execute_result"
    }
   ],
   "source": [
    "data_np.ndim,indices_np.ndim,updates_np.ndim"
   ]
  },
  {
   "cell_type": "code",
   "execution_count": 90,
   "metadata": {},
   "outputs": [],
   "source": [
    "data=gs.Variable(name=\"data\",dtype=TensorProto.FLOAT,shape=[3,3])\n",
    "indices=gs.Variable(name=\"indices\",dtype=TensorProto.INT64,shape=[2,3])\n",
    "updates=gs.Variable(name=\"updates\",dtype=TensorProto.FLOAT,shape=[2,3])\n",
    "\n",
    "output=gs.Variable(name=\"output\",dtype=TensorProto.FLOAT,shape=[3,3])\n",
    "\n",
    "scatter_node =gs.Node(op=\"Scatter\",name=\"scatter_node\",inputs=[data,indices,updates],outputs=[output])\n",
    "\n",
    "\n",
    "\n",
    "graph =gs.Graph(nodes=[scatter_node],inputs=[data,indices,updates],outputs=[output],opset=9)\n",
    "model =gs.export_onnx(graph)\n",
    "onnx.checker.check_model(model)\n",
    "onnx.save(model,\"scatter.onnx\")"
   ]
  },
  {
   "cell_type": "markdown",
   "metadata": {},
   "source": [
    "Scatter ND"
   ]
  },
  {
   "cell_type": "code",
   "execution_count": 91,
   "metadata": {},
   "outputs": [],
   "source": [
    "graph_nodes = []\n",
    "graph_inputs = []\n",
    "graph_outputs = []\n",
    "\n",
    "# Input variables\n",
    "data = gs.Variable(\"data\", dtype=TensorProto.FLOAT, shape=[3, 3])\n",
    "indices = gs.Variable(\"indices\", dtype=TensorProto.INT64, shape=[2, 3])\n",
    "updates = gs.Variable(\"updates\", dtype=TensorProto.FLOAT, shape=[2, 3])\n",
    "graph_inputs.extend([data, indices, updates])\n",
    "\n",
    "# --- 1. Create a Range node to generate column indices for each row.\n",
    "# We want to create a tensor [0, 1, 2] (since data has 3 columns).\n",
    "start = gs.Constant(\"start\", np.array(0, dtype=np.int64))\n",
    "limit = gs.Constant(\"limit\", np.array(3, dtype=np.int64))\n",
    "delta = gs.Constant(\"delta\", np.array(1, dtype=np.int64))\n",
    "range_node = gs.Node(\"Range\", \"range_node\", inputs=[start, limit, delta],\n",
    "                     outputs=[gs.Variable(\"col_range\", dtype=TensorProto.INT64, shape=[3])])\n",
    "graph_nodes.append(range_node)\n",
    "\n",
    "# --- 2. Unsqueeze the col_range to shape [1,3] using attribute \"axes\"\n",
    "col_range_unsqueezed = gs.Variable(\"col_range_unsqueezed\", dtype=TensorProto.INT64, shape=[1, 3])\n",
    "unsqueeze_node = gs.Node(\"Unsqueeze\", \"unsqueeze_node\", inputs=[range_node.outputs[0]],\n",
    "                         outputs=[col_range_unsqueezed], attrs={\"axes\": [0]})\n",
    "graph_nodes.append(unsqueeze_node)\n",
    "\n",
    "# --- 3. Tile the col_range_unsqueezed along axis 0 to shape [2,3].\n",
    "tiles = gs.Constant(\"tiles\", np.array([2, 1], dtype=np.int64))\n",
    "col_indices = gs.Variable(\"col_indices\", dtype=TensorProto.INT64, shape=[2, 3])\n",
    "tile_node = gs.Node(\"Tile\", \"tile_node\", inputs=[col_range_unsqueezed, tiles], outputs=[col_indices])\n",
    "graph_nodes.append(tile_node)\n",
    "\n",
    "# --- 4. Unsqueeze orig_indices and col_indices to shape [2,3,1] using attribute \"axes\"\n",
    "orig_indices_unsq = gs.Variable(\"orig_indices_unsq\", dtype=TensorProto.INT64, shape=[2, 3, 1])\n",
    "unsqueeze_orig_node = gs.Node(\"Unsqueeze\", \"unsqueeze_orig_node\", inputs=[indices],\n",
    "                              outputs=[orig_indices_unsq], attrs={\"axes\": [2]})\n",
    "graph_nodes.append(unsqueeze_orig_node)\n",
    "\n",
    "col_indices_unsq = gs.Variable(\"col_indices_unsq\", dtype=TensorProto.INT64, shape=[2, 3, 1])\n",
    "unsqueeze_col_node = gs.Node(\"Unsqueeze\", \"unsqueeze_col_node\", inputs=[col_indices],\n",
    "                             outputs=[col_indices_unsq], attrs={\"axes\": [2]})\n",
    "graph_nodes.append(unsqueeze_col_node)\n",
    "\n",
    "# --- 5. Concat the unsqueezed indices along axis 2 to get shape [2,3,2].\n",
    "concat_indices = gs.Variable(\"concat_indices\", dtype=TensorProto.INT64, shape=[2, 3, 2])\n",
    "concat_node = gs.Node(\"Concat\", \"concat_node\", inputs=[orig_indices_unsq, col_indices_unsq],\n",
    "                      outputs=[concat_indices], attrs={\"axis\": 2})\n",
    "graph_nodes.append(concat_node)\n",
    "\n",
    "# --- 6. Reshape the concatenated indices to shape [6,2].\n",
    "reshape_shape = gs.Constant(\"reshape_shape\", np.array([6, 2], dtype=np.int64))\n",
    "scatternd_indices = gs.Variable(\"scatternd_indices\", dtype=TensorProto.INT64, shape=[6, 2])\n",
    "reshape_indices_node = gs.Node(\"Reshape\", \"reshape_indices_node\", inputs=[concat_indices, reshape_shape],\n",
    "                               outputs=[scatternd_indices])\n",
    "graph_nodes.append(reshape_indices_node)\n",
    "\n",
    "# --- 7. Flatten the updates from [2,3] to [6].\n",
    "updates_reshape_shape = gs.Constant(\"updates_reshape_shape\", np.array([6], dtype=np.int64))\n",
    "scatternd_updates = gs.Variable(\"scatternd_updates\", dtype=TensorProto.FLOAT, shape=[6])\n",
    "reshape_updates_node = gs.Node(\"Reshape\", \"reshape_updates_node\", inputs=[updates, updates_reshape_shape],\n",
    "                               outputs=[scatternd_updates])\n",
    "graph_nodes.append(reshape_updates_node)\n",
    "\n",
    "# --- 8. Create the ScatterND node.\n",
    "output = gs.Variable(\"output\", dtype=TensorProto.FLOAT, shape=[3, 3])\n",
    "scatternd_node = gs.Node(\"ScatterND\", \"scatternd_node\",\n",
    "                         inputs=[data, scatternd_indices, scatternd_updates],\n",
    "                         outputs=[output])\n",
    "graph_nodes.append(scatternd_node)\n",
    "\n",
    "# Set graph inputs and outputs.\n",
    "graph = gs.Graph(nodes=graph_nodes, inputs=[data, indices, updates],\n",
    "                 outputs=[output], opset=11)\n",
    "\n",
    "# Export and save the model.\n",
    "model = gs.export_onnx(graph)\n",
    "onnx.checker.check_model(model)\n",
    "onnx.save(model, \"scatternd.onnx\")"
   ]
  },
  {
   "cell_type": "code",
   "execution_count": 93,
   "metadata": {},
   "outputs": [
    {
     "data": {
      "text/html": [
       "<pre style=\"white-space:pre;overflow-x:auto;line-height:normal;font-family:Menlo,'DejaVu Sans Mono',consolas,'Courier New',monospace\">Output from original Scatter model:\n",
       "</pre>\n"
      ],
      "text/plain": [
       "Output from original Scatter model:\n"
      ]
     },
     "metadata": {},
     "output_type": "display_data"
    },
    {
     "data": {
      "text/html": [
       "<pre style=\"white-space:pre;overflow-x:auto;line-height:normal;font-family:Menlo,'DejaVu Sans Mono',consolas,'Courier New',monospace\"><span style=\"font-weight: bold\">[[</span><span style=\"color: #008080; text-decoration-color: #008080; font-weight: bold\">2</span>.  <span style=\"color: #008080; text-decoration-color: #008080; font-weight: bold\">1.1</span> <span style=\"color: #008080; text-decoration-color: #008080; font-weight: bold\">0</span>. <span style=\"font-weight: bold\">]</span>\n",
       " <span style=\"font-weight: bold\">[</span><span style=\"color: #008080; text-decoration-color: #008080; font-weight: bold\">1</span>.  <span style=\"color: #008080; text-decoration-color: #008080; font-weight: bold\">0</span>.  <span style=\"color: #008080; text-decoration-color: #008080; font-weight: bold\">2.2</span><span style=\"font-weight: bold\">]</span>\n",
       " <span style=\"font-weight: bold\">[</span><span style=\"color: #008080; text-decoration-color: #008080; font-weight: bold\">0</span>.  <span style=\"color: #008080; text-decoration-color: #008080; font-weight: bold\">2.1</span> <span style=\"color: #008080; text-decoration-color: #008080; font-weight: bold\">1.2</span><span style=\"font-weight: bold\">]]</span>\n",
       "</pre>\n"
      ],
      "text/plain": [
       "\u001b[1m[\u001b[0m\u001b[1m[\u001b[0m\u001b[1;36m2\u001b[0m.  \u001b[1;36m1.1\u001b[0m \u001b[1;36m0\u001b[0m. \u001b[1m]\u001b[0m\n",
       " \u001b[1m[\u001b[0m\u001b[1;36m1\u001b[0m.  \u001b[1;36m0\u001b[0m.  \u001b[1;36m2.2\u001b[0m\u001b[1m]\u001b[0m\n",
       " \u001b[1m[\u001b[0m\u001b[1;36m0\u001b[0m.  \u001b[1;36m2.1\u001b[0m \u001b[1;36m1.2\u001b[0m\u001b[1m]\u001b[0m\u001b[1m]\u001b[0m\n"
      ]
     },
     "metadata": {},
     "output_type": "display_data"
    },
    {
     "data": {
      "text/html": [
       "<pre style=\"white-space:pre;overflow-x:auto;line-height:normal;font-family:Menlo,'DejaVu Sans Mono',consolas,'Courier New',monospace\">Output from modified ScatterND model:\n",
       "</pre>\n"
      ],
      "text/plain": [
       "Output from modified ScatterND model:\n"
      ]
     },
     "metadata": {},
     "output_type": "display_data"
    },
    {
     "data": {
      "text/html": [
       "<pre style=\"white-space:pre;overflow-x:auto;line-height:normal;font-family:Menlo,'DejaVu Sans Mono',consolas,'Courier New',monospace\"><span style=\"font-weight: bold\">[[</span><span style=\"color: #008080; text-decoration-color: #008080; font-weight: bold\">2</span>.  <span style=\"color: #008080; text-decoration-color: #008080; font-weight: bold\">1.1</span> <span style=\"color: #008080; text-decoration-color: #008080; font-weight: bold\">0</span>. <span style=\"font-weight: bold\">]</span>\n",
       " <span style=\"font-weight: bold\">[</span><span style=\"color: #008080; text-decoration-color: #008080; font-weight: bold\">1</span>.  <span style=\"color: #008080; text-decoration-color: #008080; font-weight: bold\">0</span>.  <span style=\"color: #008080; text-decoration-color: #008080; font-weight: bold\">2.2</span><span style=\"font-weight: bold\">]</span>\n",
       " <span style=\"font-weight: bold\">[</span><span style=\"color: #008080; text-decoration-color: #008080; font-weight: bold\">0</span>.  <span style=\"color: #008080; text-decoration-color: #008080; font-weight: bold\">2.1</span> <span style=\"color: #008080; text-decoration-color: #008080; font-weight: bold\">1.2</span><span style=\"font-weight: bold\">]]</span>\n",
       "</pre>\n"
      ],
      "text/plain": [
       "\u001b[1m[\u001b[0m\u001b[1m[\u001b[0m\u001b[1;36m2\u001b[0m.  \u001b[1;36m1.1\u001b[0m \u001b[1;36m0\u001b[0m. \u001b[1m]\u001b[0m\n",
       " \u001b[1m[\u001b[0m\u001b[1;36m1\u001b[0m.  \u001b[1;36m0\u001b[0m.  \u001b[1;36m2.2\u001b[0m\u001b[1m]\u001b[0m\n",
       " \u001b[1m[\u001b[0m\u001b[1;36m0\u001b[0m.  \u001b[1;36m2.1\u001b[0m \u001b[1;36m1.2\u001b[0m\u001b[1m]\u001b[0m\u001b[1m]\u001b[0m\n"
      ]
     },
     "metadata": {},
     "output_type": "display_data"
    }
   ],
   "source": [
    "\n",
    "# Run the model using ONNX Runtime.\n",
    "session = ort.InferenceSession(\"scatter.onnx\")\n",
    "result = session.run(None, input_feed={\n",
    "    \"data\": data_np,\n",
    "    \"indices\": indices_np,\n",
    "    \"updates\": updates_np,\n",
    "})\n",
    "print(\"Output from original Scatter model:\")\n",
    "print(result[0])\n",
    "\n",
    "session = ort.InferenceSession(\"scatternd.onnx\")\n",
    "result = session.run(None, input_feed={\n",
    "    \"data\": data_np,\n",
    "    \"indices\": indices_np,\n",
    "    \"updates\": updates_np,\n",
    "})\n",
    "print(\"Output from modified ScatterND model:\")\n",
    "print(result[0])"
   ]
  },
  {
   "cell_type": "code",
   "execution_count": null,
   "metadata": {},
   "outputs": [],
   "source": []
  }
 ],
 "metadata": {
  "kernelspec": {
   "display_name": "mlenv",
   "language": "python",
   "name": "python3"
  },
  "language_info": {
   "codemirror_mode": {
    "name": "ipython",
    "version": 3
   },
   "file_extension": ".py",
   "mimetype": "text/x-python",
   "name": "python",
   "nbconvert_exporter": "python",
   "pygments_lexer": "ipython3",
   "version": "3.13.1"
  }
 },
 "nbformat": 4,
 "nbformat_minor": 2
}
