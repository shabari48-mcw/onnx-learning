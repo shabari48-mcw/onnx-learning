{
 "cells": [
  {
   "cell_type": "code",
   "execution_count": 12,
   "metadata": {},
   "outputs": [
    {
     "name": "stdout",
     "output_type": "stream",
     "text": [
      "Replacing ATen Instance Norm Node: ATen_412_InstanceNorm\n",
      "Inputs Variable (input.751): (shape=[6, 512, 28, 50], dtype=float32)\n",
      "Scale Variable (input.751): (shape=[6, 512, 28, 50], dtype=float32)\n",
      "Bias Variable (input.751): (shape=[6, 512, 28, 50], dtype=float32)\n",
      "Replacing ATen Instance Norm Node: ATen_419_InstanceNorm\n",
      "Inputs Variable (input.759): (shape=[6, 512, 28, 50], dtype=float32)\n",
      "Scale Variable (input.759): (shape=[6, 512, 28, 50], dtype=float32)\n",
      "Bias Variable (input.759): (shape=[6, 512, 28, 50], dtype=float32)\n",
      "Replacing ATen Instance Norm Node: ATen_878_InstanceNorm\n",
      "Inputs Variable (input.771): (shape=[1, 128, 200, 200], dtype=float32)\n",
      "Scale Variable (input.771): (shape=[1, 128, 200, 200], dtype=float32)\n",
      "Bias Variable (input.771): (shape=[1, 128, 200, 200], dtype=float32)\n",
      "Replacing ATen Instance Norm Node: ATen_930_InstanceNorm\n",
      "Inputs Variable (input.895): (shape=['unk__331', 128, 'unk__335', 'unk__336'], dtype=float32)\n",
      "Scale Variable (input.895): (shape=['unk__331', 128, 'unk__335', 'unk__336'], dtype=float32)\n",
      "Bias Variable (input.895): (shape=['unk__331', 128, 'unk__335', 'unk__336'], dtype=float32)\n",
      "Replacing ATen Instance Norm Node: ATen_938_InstanceNorm\n",
      "Inputs Variable (input.907): (shape=['unk__342', 64, 'unk__346', 'unk__347'], dtype=float32)\n",
      "Scale Variable (input.907): (shape=['unk__342', 64, 'unk__346', 'unk__347'], dtype=float32)\n",
      "Bias Variable (input.907): (shape=['unk__342', 64, 'unk__346', 'unk__347'], dtype=float32)\n",
      "Replacing ATen Instance Norm Node: ATen_946_InstanceNorm\n",
      "Inputs Variable (input.919): (shape=['unk__354', 128, 'unk__358', 'unk__359'], dtype=float32)\n",
      "Scale Variable (input.919): (shape=['unk__354', 128, 'unk__358', 'unk__359'], dtype=float32)\n",
      "Bias Variable (input.919): (shape=['unk__354', 128, 'unk__358', 'unk__359'], dtype=float32)\n",
      "Replacing ATen Instance Norm Node: ATen_953_InstanceNorm\n",
      "Inputs Variable (input.927): (shape=['Addoutput_0_dim_0', 128, 200, 200], dtype=float32)\n",
      "Scale Variable (input.927): (shape=['Addoutput_0_dim_0', 128, 200, 200], dtype=float32)\n",
      "Bias Variable (input.927): (shape=['Addoutput_0_dim_0', 128, 200, 200], dtype=float32)\n",
      "Replacing ATen Instance Norm Node: ATen_978_InstanceNorm\n",
      "Inputs Variable (input.951): (shape=['Addoutput_0_dim_0', 128, 200, 200], dtype=float32)\n",
      "Scale Variable (input.951): (shape=['Addoutput_0_dim_0', 128, 200, 200], dtype=float32)\n",
      "Bias Variable (input.951): (shape=['Addoutput_0_dim_0', 128, 200, 200], dtype=float32)\n",
      "Replacing ATen Instance Norm Node: ATen_961_InstanceNorm\n",
      "Inputs Variable (input.935): (shape=['Addoutput_0_dim_0', 128, 200, 200], dtype=float32)\n",
      "Scale Variable (input.935): (shape=['Addoutput_0_dim_0', 128, 200, 200], dtype=float32)\n",
      "Bias Variable (input.935): (shape=['Addoutput_0_dim_0', 128, 200, 200], dtype=float32)\n",
      "Replacing ATen Instance Norm Node: ATen_969_InstanceNorm\n",
      "Inputs Variable (input.943): (shape=['Addoutput_0_dim_0', 128, 200, 200], dtype=float32)\n",
      "Scale Variable (input.943): (shape=['Addoutput_0_dim_0', 128, 200, 200], dtype=float32)\n",
      "Bias Variable (input.943): (shape=['Addoutput_0_dim_0', 128, 200, 200], dtype=float32)\n",
      "Total ATen Instance Norm nodes found: 10\n"
     ]
    }
   ],
   "source": [
    "import onnx\n",
    "import onnx_graphsurgeon as gs\n",
    "import numpy as np\n",
    "# from rich import print\n",
    "\n",
    "# Load the ONNX model\n",
    "input_model_path = \"complete.onnx\"     # Replace with your model path\n",
    "output_model_path = \"simple_bev_model_fixed.onnx\"\n",
    "\n",
    "# Load the model with ONNX GraphSurgeon\n",
    "model=onnx.load(input_model_path)\n",
    "graph = gs.import_onnx(model)\n",
    "\n",
    "\n",
    "onnx.checker.check_model(model)\n",
    "\n",
    "\n",
    "def print_node(node):\n",
    "    print(f\"Node: {node.name}\")\n",
    "    print(f\"Op: {node.op}\")\n",
    "    print(f\"Inputs: {node.inputs}\")\n",
    "    print(f\"Outputs: {node.outputs}\")\n",
    "    print(f\"Attributes: {node.attrs}\")\n",
    "\n",
    "\n",
    "count=0\n",
    "for node in graph.nodes:\n",
    "    if node.op == \"InstanceNormalization\":\n",
    "        print(f\"Replacing ATen Instance Norm Node: {node.name}\")\n",
    "        count+=1\n",
    "        print(f\"Inputs {node.inputs[0]}\")\n",
    "        print(f\"Scale {node.inputs[0]}\")\n",
    "        print(f\"Bias {node.inputs[0]}\")\n",
    "        \n",
    "        \n",
    "print(f\"Total ATen Instance Norm nodes found: {count}\")\n",
    "    "
   ]
  },
  {
   "cell_type": "code",
   "execution_count": 13,
   "metadata": {},
   "outputs": [
    {
     "name": "stdout",
     "output_type": "stream",
     "text": [
      "Replacing ATen Instance Norm Node: ATen_412_InstanceNorm\n",
      "Replacing ATen Instance Norm Node: ATen_419_InstanceNorm\n",
      "Replacing ATen Instance Norm Node: ATen_878_InstanceNorm\n",
      "Replacing ATen Instance Norm Node: ATen_930_InstanceNorm\n",
      "Replacing ATen Instance Norm Node: ATen_938_InstanceNorm\n",
      "Replacing ATen Instance Norm Node: ATen_946_InstanceNorm\n",
      "Replacing ATen Instance Norm Node: ATen_953_InstanceNorm\n",
      "Replacing ATen Instance Norm Node: ATen_978_InstanceNorm\n",
      "Replacing ATen Instance Norm Node: ATen_961_InstanceNorm\n",
      "Replacing ATen Instance Norm Node: ATen_969_InstanceNorm\n"
     ]
    }
   ],
   "source": [
    "for node in graph.nodes:\n",
    "    if node.op == \"InstanceNormalization\":\n",
    "        print(f\"Replacing ATen Instance Norm Node: {node.name}\")\n",
    "        # print(node.inputs[0])\n",
    "        \n",
    "        num_channels = node.inputs[0].shape[1]\n",
    "\n",
    "        scale = gs.Constant(name=f\"{node.name}_scale\", values=np.ones(num_channels, dtype=np.float32))\n",
    "        bias = gs.Constant(name=f\"{node.name}_bias\", values=np.zeros(num_channels, dtype=np.float32))\n",
    "        \n",
    "        node.inputs[1]=scale\n",
    "        node.inputs[2]=bias\n",
    "        "
   ]
  },
  {
   "cell_type": "code",
   "execution_count": 14,
   "metadata": {},
   "outputs": [
    {
     "name": "stdout",
     "output_type": "stream",
     "text": [
      "Replacing ATen Instance Norm Node: ATen_412_InstanceNorm\n",
      "Inputs Variable (input.751): (shape=[6, 512, 28, 50], dtype=float32)\n",
      "Scale Variable (input.751): (shape=[6, 512, 28, 50], dtype=float32)\n",
      "Bias Variable (input.751): (shape=[6, 512, 28, 50], dtype=float32)\n",
      "Replacing ATen Instance Norm Node: ATen_419_InstanceNorm\n",
      "Inputs Variable (input.759): (shape=[6, 512, 28, 50], dtype=float32)\n",
      "Scale Variable (input.759): (shape=[6, 512, 28, 50], dtype=float32)\n",
      "Bias Variable (input.759): (shape=[6, 512, 28, 50], dtype=float32)\n",
      "Replacing ATen Instance Norm Node: ATen_878_InstanceNorm\n",
      "Inputs Variable (input.771): (shape=[1, 128, 200, 200], dtype=float32)\n",
      "Scale Variable (input.771): (shape=[1, 128, 200, 200], dtype=float32)\n",
      "Bias Variable (input.771): (shape=[1, 128, 200, 200], dtype=float32)\n",
      "Replacing ATen Instance Norm Node: ATen_930_InstanceNorm\n",
      "Inputs Variable (input.895): (shape=['unk__331', 128, 'unk__335', 'unk__336'], dtype=float32)\n",
      "Scale Variable (input.895): (shape=['unk__331', 128, 'unk__335', 'unk__336'], dtype=float32)\n",
      "Bias Variable (input.895): (shape=['unk__331', 128, 'unk__335', 'unk__336'], dtype=float32)\n",
      "Replacing ATen Instance Norm Node: ATen_938_InstanceNorm\n",
      "Inputs Variable (input.907): (shape=['unk__342', 64, 'unk__346', 'unk__347'], dtype=float32)\n",
      "Scale Variable (input.907): (shape=['unk__342', 64, 'unk__346', 'unk__347'], dtype=float32)\n",
      "Bias Variable (input.907): (shape=['unk__342', 64, 'unk__346', 'unk__347'], dtype=float32)\n",
      "Replacing ATen Instance Norm Node: ATen_946_InstanceNorm\n",
      "Inputs Variable (input.919): (shape=['unk__354', 128, 'unk__358', 'unk__359'], dtype=float32)\n",
      "Scale Variable (input.919): (shape=['unk__354', 128, 'unk__358', 'unk__359'], dtype=float32)\n",
      "Bias Variable (input.919): (shape=['unk__354', 128, 'unk__358', 'unk__359'], dtype=float32)\n",
      "Replacing ATen Instance Norm Node: ATen_953_InstanceNorm\n",
      "Inputs Variable (input.927): (shape=['Addoutput_0_dim_0', 128, 200, 200], dtype=float32)\n",
      "Scale Variable (input.927): (shape=['Addoutput_0_dim_0', 128, 200, 200], dtype=float32)\n",
      "Bias Variable (input.927): (shape=['Addoutput_0_dim_0', 128, 200, 200], dtype=float32)\n",
      "Replacing ATen Instance Norm Node: ATen_978_InstanceNorm\n",
      "Inputs Variable (input.951): (shape=['Addoutput_0_dim_0', 128, 200, 200], dtype=float32)\n",
      "Scale Variable (input.951): (shape=['Addoutput_0_dim_0', 128, 200, 200], dtype=float32)\n",
      "Bias Variable (input.951): (shape=['Addoutput_0_dim_0', 128, 200, 200], dtype=float32)\n",
      "Replacing ATen Instance Norm Node: ATen_961_InstanceNorm\n",
      "Inputs Variable (input.935): (shape=['Addoutput_0_dim_0', 128, 200, 200], dtype=float32)\n",
      "Scale Variable (input.935): (shape=['Addoutput_0_dim_0', 128, 200, 200], dtype=float32)\n",
      "Bias Variable (input.935): (shape=['Addoutput_0_dim_0', 128, 200, 200], dtype=float32)\n",
      "Replacing ATen Instance Norm Node: ATen_969_InstanceNorm\n",
      "Inputs Variable (input.943): (shape=['Addoutput_0_dim_0', 128, 200, 200], dtype=float32)\n",
      "Scale Variable (input.943): (shape=['Addoutput_0_dim_0', 128, 200, 200], dtype=float32)\n",
      "Bias Variable (input.943): (shape=['Addoutput_0_dim_0', 128, 200, 200], dtype=float32)\n",
      "Total ATen Instance Norm nodes found: 10\n"
     ]
    }
   ],
   "source": [
    "count=0\n",
    "for node in graph.nodes:\n",
    "    if node.op == \"InstanceNormalization\":\n",
    "        print(f\"Replacing ATen Instance Norm Node: {node.name}\")\n",
    "        count+=1\n",
    "        print(f\"Inputs {node.inputs[0]}\")\n",
    "        print(f\"Scale {node.inputs[0]}\")\n",
    "        print(f\"Bias {node.inputs[0]}\")\n",
    "        \n",
    "        \n",
    "print(f\"Total ATen Instance Norm nodes found: {count}\")\n",
    "\n",
    "model=gs.export_onnx(graph)\n",
    "onnx.save(model, \"size_fixed.onnx\")"
   ]
  },
  {
   "cell_type": "code",
   "execution_count": null,
   "metadata": {},
   "outputs": [
    {
     "ename": "NameError",
     "evalue": "name 'aten1' is not defined",
     "output_type": "error",
     "traceback": [
      "\u001b[1;31m---------------------------------------------------------------------------\u001b[0m",
      "\u001b[1;31mNameError\u001b[0m                                 Traceback (most recent call last)",
      "Cell \u001b[1;32mIn[15], line 1\u001b[0m\n\u001b[1;32m----> 1\u001b[0m input_tensor \u001b[38;5;241m=\u001b[39m \u001b[43maten1\u001b[49m\u001b[38;5;241m.\u001b[39minputs[\u001b[38;5;241m0\u001b[39m]\n\u001b[0;32m      3\u001b[0m \u001b[38;5;66;03m# Extract epsilon and momentum values\u001b[39;00m\n\u001b[0;32m      4\u001b[0m epsilon \u001b[38;5;241m=\u001b[39m \u001b[38;5;241m1e-5\u001b[39m\n",
      "\u001b[1;31mNameError\u001b[0m: name 'aten1' is not defined"
     ]
    }
   ],
   "source": [
    "# input_tensor = aten1.inputs[0]\n",
    "\n",
    "# # Extract epsilon and momentum values\n",
    "# epsilon = 1e-5\n",
    "\n",
    "# scale = gs.Constant(name=f\"{node.name}_scale\", values=np.array(1, dtype=np.float32))\n",
    "# bias = gs.Constant(name=f\"{node.name}_bias\", values=np.array(0, dtype=np.float32))\n",
    "\n",
    "# inst_norm_output = gs.Variable(name=f\"{node.name}_InstanceNorm_output\", dtype=np.float32)\n",
    "\n",
    "# # Create InstanceNormalization node\n",
    "# inst_norm_node = gs.Node(\n",
    "#     op=\"InstanceNormalization\",\n",
    "#     name=f\"{node.name}_InstanceNorm\",\n",
    "#     inputs=[input_tensor, scale, bias],\n",
    "#     outputs=[inst_norm_output],\n",
    "#     attrs={\"epsilon\": epsilon}\n",
    "# )\n",
    "\n",
    "# # Add the new node to the graph\n",
    "# graph.nodes.remove(aten1)\n",
    "# graph.nodes.append(inst_norm_node)\n",
    "\n",
    "\n",
    "# relu = [node for node in graph.nodes if node.name == \"Relu_970\"][0]\n",
    "\n",
    "# relu.inputs = inst_norm_node.outputs\n",
    "\n",
    "# graph.cleanup().toposort()\n"
   ]
  },
  {
   "cell_type": "code",
   "execution_count": null,
   "metadata": {},
   "outputs": [
    {
     "name": "stdout",
     "output_type": "stream",
     "text": [
      "Shape-inferred model saved at final.onnx\n"
     ]
    }
   ],
   "source": [
    "# # # Clean up and save the modified model\n",
    "# # graph.cleanup().toposort()\n",
    "\n",
    "model=gs.export_onnx(graph)\n",
    "onnx.checker.check_model(model)\n",
    "model = onnx.shape_inference.infer_shapes(model)\n",
    "inferred_model_path = \"final.onnx\"\n",
    "onnx.save(model, inferred_model_path)\n",
    "print(f\"Shape-inferred model saved at {inferred_model_path}\")\n"
   ]
  },
  {
   "cell_type": "markdown",
   "metadata": {},
   "source": [
    "## ONNX Runtime Inference"
   ]
  },
  {
   "cell_type": "code",
   "execution_count": null,
   "metadata": {},
   "outputs": [
    {
     "name": "stdout",
     "output_type": "stream",
     "text": [
      "['rgb_camXs', 'pix_T_cams', 'cam0_T_camXs']\n",
      "['output_0', 'feat_bev_e', 'seg_bev_e', 'center_bev_e', 'offset_bev_e']\n"
     ]
    }
   ],
   "source": [
    "import onnxruntime as ort\n",
    "\n",
    "ort_session = ort.InferenceSession(\"size_fixed.onnx\")\n",
    "\n",
    "print([x.name for x in ort_session.get_inputs()])\n",
    "\n",
    "print([x.name for x in ort_session.get_outputs()])\n"
   ]
  },
  {
   "cell_type": "code",
   "execution_count": null,
   "metadata": {},
   "outputs": [],
   "source": [
    "input_shapes = [x.shape for x in ort_session.get_inputs()]\n",
    "input_shapes\n",
    "\n",
    "input_tensors = [np.random.random(shape).astype(np.float32) for shape in input_shapes]\n",
    "\n",
    "inputs =dict(zip([x.name for x in ort_session.get_inputs()], input_tensors))"
   ]
  },
  {
   "cell_type": "code",
   "execution_count": null,
   "metadata": {},
   "outputs": [
    {
     "name": "stdout",
     "output_type": "stream",
     "text": [
      "[(1, 128, 200, 200), (1, 128, 200, 200), (1, 1, 200, 200), (1, 1, 200, 200), (1, 2, 200, 200)]\n"
     ]
    }
   ],
   "source": [
    "output_tensors = ort_session.run(None,inputs)"
   ]
  },
  {
   "cell_type": "code",
   "execution_count": null,
   "metadata": {},
   "outputs": [],
   "source": []
  }
 ],
 "metadata": {
  "kernelspec": {
   "display_name": "mlenv",
   "language": "python",
   "name": "python3"
  },
  "language_info": {
   "codemirror_mode": {
    "name": "ipython",
    "version": 3
   },
   "file_extension": ".py",
   "mimetype": "text/x-python",
   "name": "python",
   "nbconvert_exporter": "python",
   "pygments_lexer": "ipython3",
   "version": "3.13.1"
  }
 },
 "nbformat": 4,
 "nbformat_minor": 2
}
