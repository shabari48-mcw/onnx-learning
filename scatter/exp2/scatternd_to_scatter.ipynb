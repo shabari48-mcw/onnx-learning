{
 "cells": [
  {
   "cell_type": "code",
   "execution_count": 11,
   "metadata": {},
   "outputs": [],
   "source": [
    "import onnx\n",
    "import onnx_graphsurgeon as gs\n",
    "import onnxruntime as ort\n",
    "import torch\n",
    "import numpy as np\n",
    "from rich import print\n",
    "from onnx import TensorProto"
   ]
  },
  {
   "cell_type": "markdown",
   "metadata": {},
   "source": [
    "## ScatterND using Graph Surgeon "
   ]
  },
  {
   "cell_type": "code",
   "execution_count": 12,
   "metadata": {},
   "outputs": [],
   "source": [
    "## updates rank = data rank+indices rank - indices.shape[-1]-1\n",
    "## output shape same as data shape "
   ]
  },
  {
   "cell_type": "code",
   "execution_count": 13,
   "metadata": {},
   "outputs": [],
   "source": [
    "data = gs.Variable(\"data\", dtype=TensorProto.FLOAT, shape=[8])\n",
    "indices = gs.Variable(\"indices\", dtype=TensorProto.INT64, shape=[4, 1])\n",
    "updates = gs.Variable(\"updates\", dtype=TensorProto.FLOAT, shape=[4])\n",
    "\n",
    "scatter_output=gs.Variable(\"scatter_output\",dtype=TensorProto.FLOAT,shape=[8])"
   ]
  },
  {
   "cell_type": "code",
   "execution_count": 14,
   "metadata": {},
   "outputs": [],
   "source": [
    "scatter_nd= gs.Node(op=\"ScatterND\",name=\"scatter_node\",inputs=[data,indices,updates],outputs=[scatter_output])\n",
    "\n",
    "graph=gs.Graph(nodes=[scatter_nd],inputs=[data,indices,updates],outputs=[scatter_output],opset=18)\n",
    "\n",
    "onnx.save(gs.export_onnx(graph),\"./models/scatternd.onnx\")"
   ]
  },
  {
   "cell_type": "markdown",
   "metadata": {},
   "source": [
    "## Inputs"
   ]
  },
  {
   "cell_type": "code",
   "execution_count": null,
   "metadata": {},
   "outputs": [
    {
     "data": {
      "text/html": [
       "<pre style=\"white-space:pre;overflow-x:auto;line-height:normal;font-family:Menlo,'DejaVu Sans Mono',consolas,'Courier New',monospace\"><span style=\"font-weight: bold\">{</span>\n",
       "    <span style=\"color: #008000; text-decoration-color: #008000\">'data'</span>: <span style=\"color: #800080; text-decoration-color: #800080; font-weight: bold\">array</span><span style=\"font-weight: bold\">([</span> <span style=\"color: #008080; text-decoration-color: #008080; font-weight: bold\">0.37362203</span>, <span style=\"color: #008080; text-decoration-color: #008080; font-weight: bold\">-0.27512082</span>, <span style=\"color: #008080; text-decoration-color: #008080; font-weight: bold\">-0.5601058</span> , <span style=\"color: #008080; text-decoration-color: #008080; font-weight: bold\">-0.60849917</span>,  <span style=\"color: #008080; text-decoration-color: #008080; font-weight: bold\">1.303471</span>  ,\n",
       "       <span style=\"color: #008080; text-decoration-color: #008080; font-weight: bold\">-1.4730226</span> ,  <span style=\"color: #008080; text-decoration-color: #008080; font-weight: bold\">0.8377629</span> , <span style=\"color: #008080; text-decoration-color: #008080; font-weight: bold\">-0.09678597</span><span style=\"font-weight: bold\">]</span>, <span style=\"color: #808000; text-decoration-color: #808000\">dtype</span>=<span style=\"color: #800080; text-decoration-color: #800080\">float32</span><span style=\"font-weight: bold\">)</span>,\n",
       "    <span style=\"color: #008000; text-decoration-color: #008000\">'indices'</span>: <span style=\"color: #800080; text-decoration-color: #800080; font-weight: bold\">array</span><span style=\"font-weight: bold\">([[</span><span style=\"color: #008080; text-decoration-color: #008080; font-weight: bold\">2</span><span style=\"font-weight: bold\">]</span>,\n",
       "       <span style=\"font-weight: bold\">[</span><span style=\"color: #008080; text-decoration-color: #008080; font-weight: bold\">3</span><span style=\"font-weight: bold\">]</span>,\n",
       "       <span style=\"font-weight: bold\">[</span><span style=\"color: #008080; text-decoration-color: #008080; font-weight: bold\">2</span><span style=\"font-weight: bold\">]</span>,\n",
       "       <span style=\"font-weight: bold\">[</span><span style=\"color: #008080; text-decoration-color: #008080; font-weight: bold\">0</span><span style=\"font-weight: bold\">]])</span>,\n",
       "    <span style=\"color: #008000; text-decoration-color: #008000\">'updates'</span>: <span style=\"color: #800080; text-decoration-color: #800080; font-weight: bold\">array</span><span style=\"font-weight: bold\">([</span><span style=\"color: #008080; text-decoration-color: #008080; font-weight: bold\">-1.3531327</span> ,  <span style=\"color: #008080; text-decoration-color: #008080; font-weight: bold\">0.42757785</span>,  <span style=\"color: #008080; text-decoration-color: #008080; font-weight: bold\">2.201315</span>  , <span style=\"color: #008080; text-decoration-color: #008080; font-weight: bold\">-0.6370728</span> <span style=\"font-weight: bold\">]</span>, <span style=\"color: #808000; text-decoration-color: #808000\">dtype</span>=<span style=\"color: #800080; text-decoration-color: #800080\">float32</span><span style=\"font-weight: bold\">)</span>\n",
       "<span style=\"font-weight: bold\">}</span>\n",
       "</pre>\n"
      ],
      "text/plain": [
       "\u001b[1m{\u001b[0m\n",
       "    \u001b[32m'data'\u001b[0m: \u001b[1;35marray\u001b[0m\u001b[1m(\u001b[0m\u001b[1m[\u001b[0m \u001b[1;36m0.37362203\u001b[0m, \u001b[1;36m-0.27512082\u001b[0m, \u001b[1;36m-0.5601058\u001b[0m , \u001b[1;36m-0.60849917\u001b[0m,  \u001b[1;36m1.303471\u001b[0m  ,\n",
       "       \u001b[1;36m-1.4730226\u001b[0m ,  \u001b[1;36m0.8377629\u001b[0m , \u001b[1;36m-0.09678597\u001b[0m\u001b[1m]\u001b[0m, \u001b[33mdtype\u001b[0m=\u001b[35mfloat32\u001b[0m\u001b[1m)\u001b[0m,\n",
       "    \u001b[32m'indices'\u001b[0m: \u001b[1;35marray\u001b[0m\u001b[1m(\u001b[0m\u001b[1m[\u001b[0m\u001b[1m[\u001b[0m\u001b[1;36m2\u001b[0m\u001b[1m]\u001b[0m,\n",
       "       \u001b[1m[\u001b[0m\u001b[1;36m3\u001b[0m\u001b[1m]\u001b[0m,\n",
       "       \u001b[1m[\u001b[0m\u001b[1;36m2\u001b[0m\u001b[1m]\u001b[0m,\n",
       "       \u001b[1m[\u001b[0m\u001b[1;36m0\u001b[0m\u001b[1m]\u001b[0m\u001b[1m]\u001b[0m\u001b[1m)\u001b[0m,\n",
       "    \u001b[32m'updates'\u001b[0m: \u001b[1;35marray\u001b[0m\u001b[1m(\u001b[0m\u001b[1m[\u001b[0m\u001b[1;36m-1.3531327\u001b[0m ,  \u001b[1;36m0.42757785\u001b[0m,  \u001b[1;36m2.201315\u001b[0m  , \u001b[1;36m-0.6370728\u001b[0m \u001b[1m]\u001b[0m, \u001b[33mdtype\u001b[0m=\u001b[35mfloat32\u001b[0m\u001b[1m)\u001b[0m\n",
       "\u001b[1m}\u001b[0m\n"
      ]
     },
     "metadata": {},
     "output_type": "display_data"
    }
   ],
   "source": [
    "\n",
    "#INPUTS\n",
    "\n",
    "ort_session=ort.InferenceSession(\"./models/scatternd.onnx\")\n",
    "\n",
    "input_values =  [np.random.randn(*x.shape).astype(np.float32) if i!=1 else np.random.randint(0,5,x.shape).astype(np.int64) for i,x in enumerate(ort_session.get_inputs())]\n",
    "input_dict = dict(zip((x.name for x in ort_session.get_inputs()),input_values))\n",
    "\n",
    "print(input_dict)\n",
    "\n",
    "d,i,u=input_values\n",
    "\n",
    "data = torch.from_numpy(d)\n",
    "indices = torch.from_numpy(i)\n",
    "updates = torch.from_numpy(u)\n"
   ]
  },
  {
   "cell_type": "markdown",
   "metadata": {},
   "source": [
    "## Replacements"
   ]
  },
  {
   "cell_type": "code",
   "execution_count": null,
   "metadata": {},
   "outputs": [
    {
     "data": {
      "text/html": [
       "<pre style=\"white-space:pre;overflow-x:auto;line-height:normal;font-family:Menlo,'DejaVu Sans Mono',consolas,'Courier New',monospace\"><span style=\"font-weight: bold\">[</span>\n",
       "    <span style=\"color: #800080; text-decoration-color: #800080; font-weight: bold\">array</span><span style=\"font-weight: bold\">([</span> <span style=\"color: #008080; text-decoration-color: #008080; font-weight: bold\">0.37362203</span>, <span style=\"color: #008080; text-decoration-color: #008080; font-weight: bold\">-0.27512082</span>, <span style=\"color: #008080; text-decoration-color: #008080; font-weight: bold\">-0.5601058</span> , <span style=\"color: #008080; text-decoration-color: #008080; font-weight: bold\">-0.60849917</span>,  <span style=\"color: #008080; text-decoration-color: #008080; font-weight: bold\">1.303471</span>  ,\n",
       "       <span style=\"color: #008080; text-decoration-color: #008080; font-weight: bold\">-1.4730226</span> ,  <span style=\"color: #008080; text-decoration-color: #008080; font-weight: bold\">0.8377629</span> , <span style=\"color: #008080; text-decoration-color: #008080; font-weight: bold\">-0.09678597</span><span style=\"font-weight: bold\">]</span>, <span style=\"color: #808000; text-decoration-color: #808000\">dtype</span>=<span style=\"color: #800080; text-decoration-color: #800080\">float32</span><span style=\"font-weight: bold\">)</span>,\n",
       "    <span style=\"color: #800080; text-decoration-color: #800080; font-weight: bold\">array</span><span style=\"font-weight: bold\">([[</span><span style=\"color: #008080; text-decoration-color: #008080; font-weight: bold\">2</span><span style=\"font-weight: bold\">]</span>,\n",
       "       <span style=\"font-weight: bold\">[</span><span style=\"color: #008080; text-decoration-color: #008080; font-weight: bold\">3</span><span style=\"font-weight: bold\">]</span>,\n",
       "       <span style=\"font-weight: bold\">[</span><span style=\"color: #008080; text-decoration-color: #008080; font-weight: bold\">2</span><span style=\"font-weight: bold\">]</span>,\n",
       "       <span style=\"font-weight: bold\">[</span><span style=\"color: #008080; text-decoration-color: #008080; font-weight: bold\">0</span><span style=\"font-weight: bold\">]])</span>,\n",
       "    <span style=\"color: #800080; text-decoration-color: #800080; font-weight: bold\">array</span><span style=\"font-weight: bold\">([</span><span style=\"color: #008080; text-decoration-color: #008080; font-weight: bold\">-1.3531327</span> ,  <span style=\"color: #008080; text-decoration-color: #008080; font-weight: bold\">0.42757785</span>,  <span style=\"color: #008080; text-decoration-color: #008080; font-weight: bold\">2.201315</span>  , <span style=\"color: #008080; text-decoration-color: #008080; font-weight: bold\">-0.6370728</span> <span style=\"font-weight: bold\">]</span>, <span style=\"color: #808000; text-decoration-color: #808000\">dtype</span>=<span style=\"color: #800080; text-decoration-color: #800080\">float32</span><span style=\"font-weight: bold\">)</span>\n",
       "<span style=\"font-weight: bold\">]</span>\n",
       "</pre>\n"
      ],
      "text/plain": [
       "\u001b[1m[\u001b[0m\n",
       "    \u001b[1;35marray\u001b[0m\u001b[1m(\u001b[0m\u001b[1m[\u001b[0m \u001b[1;36m0.37362203\u001b[0m, \u001b[1;36m-0.27512082\u001b[0m, \u001b[1;36m-0.5601058\u001b[0m , \u001b[1;36m-0.60849917\u001b[0m,  \u001b[1;36m1.303471\u001b[0m  ,\n",
       "       \u001b[1;36m-1.4730226\u001b[0m ,  \u001b[1;36m0.8377629\u001b[0m , \u001b[1;36m-0.09678597\u001b[0m\u001b[1m]\u001b[0m, \u001b[33mdtype\u001b[0m=\u001b[35mfloat32\u001b[0m\u001b[1m)\u001b[0m,\n",
       "    \u001b[1;35marray\u001b[0m\u001b[1m(\u001b[0m\u001b[1m[\u001b[0m\u001b[1m[\u001b[0m\u001b[1;36m2\u001b[0m\u001b[1m]\u001b[0m,\n",
       "       \u001b[1m[\u001b[0m\u001b[1;36m3\u001b[0m\u001b[1m]\u001b[0m,\n",
       "       \u001b[1m[\u001b[0m\u001b[1;36m2\u001b[0m\u001b[1m]\u001b[0m,\n",
       "       \u001b[1m[\u001b[0m\u001b[1;36m0\u001b[0m\u001b[1m]\u001b[0m\u001b[1m]\u001b[0m\u001b[1m)\u001b[0m,\n",
       "    \u001b[1;35marray\u001b[0m\u001b[1m(\u001b[0m\u001b[1m[\u001b[0m\u001b[1;36m-1.3531327\u001b[0m ,  \u001b[1;36m0.42757785\u001b[0m,  \u001b[1;36m2.201315\u001b[0m  , \u001b[1;36m-0.6370728\u001b[0m \u001b[1m]\u001b[0m, \u001b[33mdtype\u001b[0m=\u001b[35mfloat32\u001b[0m\u001b[1m)\u001b[0m\n",
       "\u001b[1m]\u001b[0m\n"
      ]
     },
     "metadata": {},
     "output_type": "display_data"
    },
    {
     "data": {
      "text/html": [
       "<pre style=\"white-space:pre;overflow-x:auto;line-height:normal;font-family:Menlo,'DejaVu Sans Mono',consolas,'Courier New',monospace\">Part1 <span style=\"color: #800080; text-decoration-color: #800080; font-weight: bold\">tensor</span><span style=\"font-weight: bold\">([</span> <span style=\"color: #008080; text-decoration-color: #008080; font-weight: bold\">0.3736</span>, <span style=\"color: #008080; text-decoration-color: #008080; font-weight: bold\">-0.2751</span><span style=\"font-weight: bold\">])</span>\n",
       "</pre>\n"
      ],
      "text/plain": [
       "Part1 \u001b[1;35mtensor\u001b[0m\u001b[1m(\u001b[0m\u001b[1m[\u001b[0m \u001b[1;36m0.3736\u001b[0m, \u001b[1;36m-0.2751\u001b[0m\u001b[1m]\u001b[0m\u001b[1m)\u001b[0m\n"
      ]
     },
     "metadata": {},
     "output_type": "display_data"
    },
    {
     "data": {
      "text/html": [
       "<pre style=\"white-space:pre;overflow-x:auto;line-height:normal;font-family:Menlo,'DejaVu Sans Mono',consolas,'Courier New',monospace\">Update <span style=\"color: #800080; text-decoration-color: #800080; font-weight: bold\">tensor</span><span style=\"font-weight: bold\">([</span><span style=\"color: #008080; text-decoration-color: #008080; font-weight: bold\">-1.3531</span><span style=\"font-weight: bold\">])</span>\n",
       "</pre>\n"
      ],
      "text/plain": [
       "Update \u001b[1;35mtensor\u001b[0m\u001b[1m(\u001b[0m\u001b[1m[\u001b[0m\u001b[1;36m-1.3531\u001b[0m\u001b[1m]\u001b[0m\u001b[1m)\u001b[0m\n"
      ]
     },
     "metadata": {},
     "output_type": "display_data"
    },
    {
     "data": {
      "text/html": [
       "<pre style=\"white-space:pre;overflow-x:auto;line-height:normal;font-family:Menlo,'DejaVu Sans Mono',consolas,'Courier New',monospace\">Part2 <span style=\"color: #800080; text-decoration-color: #800080; font-weight: bold\">tensor</span><span style=\"font-weight: bold\">([</span><span style=\"color: #008080; text-decoration-color: #008080; font-weight: bold\">-0.6085</span>,  <span style=\"color: #008080; text-decoration-color: #008080; font-weight: bold\">1.3035</span>, <span style=\"color: #008080; text-decoration-color: #008080; font-weight: bold\">-1.4730</span>,  <span style=\"color: #008080; text-decoration-color: #008080; font-weight: bold\">0.8378</span>, <span style=\"color: #008080; text-decoration-color: #008080; font-weight: bold\">-0.0968</span><span style=\"font-weight: bold\">])</span>\n",
       "</pre>\n"
      ],
      "text/plain": [
       "Part2 \u001b[1;35mtensor\u001b[0m\u001b[1m(\u001b[0m\u001b[1m[\u001b[0m\u001b[1;36m-0.6085\u001b[0m,  \u001b[1;36m1.3035\u001b[0m, \u001b[1;36m-1.4730\u001b[0m,  \u001b[1;36m0.8378\u001b[0m, \u001b[1;36m-0.0968\u001b[0m\u001b[1m]\u001b[0m\u001b[1m)\u001b[0m\n"
      ]
     },
     "metadata": {},
     "output_type": "display_data"
    },
    {
     "data": {
      "text/html": [
       "<pre style=\"white-space:pre;overflow-x:auto;line-height:normal;font-family:Menlo,'DejaVu Sans Mono',consolas,'Courier New',monospace\">Output <span style=\"color: #800080; text-decoration-color: #800080; font-weight: bold\">tensor</span><span style=\"font-weight: bold\">([</span> <span style=\"color: #008080; text-decoration-color: #008080; font-weight: bold\">0.3736</span>, <span style=\"color: #008080; text-decoration-color: #008080; font-weight: bold\">-0.2751</span>, <span style=\"color: #008080; text-decoration-color: #008080; font-weight: bold\">-1.3531</span>, <span style=\"color: #008080; text-decoration-color: #008080; font-weight: bold\">-0.6085</span>,  <span style=\"color: #008080; text-decoration-color: #008080; font-weight: bold\">1.3035</span>, <span style=\"color: #008080; text-decoration-color: #008080; font-weight: bold\">-1.4730</span>,  <span style=\"color: #008080; text-decoration-color: #008080; font-weight: bold\">0.8378</span>, <span style=\"color: #008080; text-decoration-color: #008080; font-weight: bold\">-0.0968</span><span style=\"font-weight: bold\">])</span>\n",
       "</pre>\n"
      ],
      "text/plain": [
       "Output \u001b[1;35mtensor\u001b[0m\u001b[1m(\u001b[0m\u001b[1m[\u001b[0m \u001b[1;36m0.3736\u001b[0m, \u001b[1;36m-0.2751\u001b[0m, \u001b[1;36m-1.3531\u001b[0m, \u001b[1;36m-0.6085\u001b[0m,  \u001b[1;36m1.3035\u001b[0m, \u001b[1;36m-1.4730\u001b[0m,  \u001b[1;36m0.8378\u001b[0m, \u001b[1;36m-0.0968\u001b[0m\u001b[1m]\u001b[0m\u001b[1m)\u001b[0m\n"
      ]
     },
     "metadata": {},
     "output_type": "display_data"
    },
    {
     "data": {
      "text/html": [
       "<pre style=\"white-space:pre;overflow-x:auto;line-height:normal;font-family:Menlo,'DejaVu Sans Mono',consolas,'Courier New',monospace\">Part1 <span style=\"color: #800080; text-decoration-color: #800080; font-weight: bold\">tensor</span><span style=\"font-weight: bold\">([</span> <span style=\"color: #008080; text-decoration-color: #008080; font-weight: bold\">0.3736</span>, <span style=\"color: #008080; text-decoration-color: #008080; font-weight: bold\">-0.2751</span>, <span style=\"color: #008080; text-decoration-color: #008080; font-weight: bold\">-1.3531</span><span style=\"font-weight: bold\">])</span>\n",
       "</pre>\n"
      ],
      "text/plain": [
       "Part1 \u001b[1;35mtensor\u001b[0m\u001b[1m(\u001b[0m\u001b[1m[\u001b[0m \u001b[1;36m0.3736\u001b[0m, \u001b[1;36m-0.2751\u001b[0m, \u001b[1;36m-1.3531\u001b[0m\u001b[1m]\u001b[0m\u001b[1m)\u001b[0m\n"
      ]
     },
     "metadata": {},
     "output_type": "display_data"
    },
    {
     "data": {
      "text/html": [
       "<pre style=\"white-space:pre;overflow-x:auto;line-height:normal;font-family:Menlo,'DejaVu Sans Mono',consolas,'Courier New',monospace\">Update <span style=\"color: #800080; text-decoration-color: #800080; font-weight: bold\">tensor</span><span style=\"font-weight: bold\">([</span><span style=\"color: #008080; text-decoration-color: #008080; font-weight: bold\">0.4276</span><span style=\"font-weight: bold\">])</span>\n",
       "</pre>\n"
      ],
      "text/plain": [
       "Update \u001b[1;35mtensor\u001b[0m\u001b[1m(\u001b[0m\u001b[1m[\u001b[0m\u001b[1;36m0.4276\u001b[0m\u001b[1m]\u001b[0m\u001b[1m)\u001b[0m\n"
      ]
     },
     "metadata": {},
     "output_type": "display_data"
    },
    {
     "data": {
      "text/html": [
       "<pre style=\"white-space:pre;overflow-x:auto;line-height:normal;font-family:Menlo,'DejaVu Sans Mono',consolas,'Courier New',monospace\">Part2 <span style=\"color: #800080; text-decoration-color: #800080; font-weight: bold\">tensor</span><span style=\"font-weight: bold\">([</span> <span style=\"color: #008080; text-decoration-color: #008080; font-weight: bold\">1.3035</span>, <span style=\"color: #008080; text-decoration-color: #008080; font-weight: bold\">-1.4730</span>,  <span style=\"color: #008080; text-decoration-color: #008080; font-weight: bold\">0.8378</span>, <span style=\"color: #008080; text-decoration-color: #008080; font-weight: bold\">-0.0968</span><span style=\"font-weight: bold\">])</span>\n",
       "</pre>\n"
      ],
      "text/plain": [
       "Part2 \u001b[1;35mtensor\u001b[0m\u001b[1m(\u001b[0m\u001b[1m[\u001b[0m \u001b[1;36m1.3035\u001b[0m, \u001b[1;36m-1.4730\u001b[0m,  \u001b[1;36m0.8378\u001b[0m, \u001b[1;36m-0.0968\u001b[0m\u001b[1m]\u001b[0m\u001b[1m)\u001b[0m\n"
      ]
     },
     "metadata": {},
     "output_type": "display_data"
    },
    {
     "data": {
      "text/html": [
       "<pre style=\"white-space:pre;overflow-x:auto;line-height:normal;font-family:Menlo,'DejaVu Sans Mono',consolas,'Courier New',monospace\">Output <span style=\"color: #800080; text-decoration-color: #800080; font-weight: bold\">tensor</span><span style=\"font-weight: bold\">([</span> <span style=\"color: #008080; text-decoration-color: #008080; font-weight: bold\">0.3736</span>, <span style=\"color: #008080; text-decoration-color: #008080; font-weight: bold\">-0.2751</span>, <span style=\"color: #008080; text-decoration-color: #008080; font-weight: bold\">-1.3531</span>,  <span style=\"color: #008080; text-decoration-color: #008080; font-weight: bold\">0.4276</span>,  <span style=\"color: #008080; text-decoration-color: #008080; font-weight: bold\">1.3035</span>, <span style=\"color: #008080; text-decoration-color: #008080; font-weight: bold\">-1.4730</span>,  <span style=\"color: #008080; text-decoration-color: #008080; font-weight: bold\">0.8378</span>, <span style=\"color: #008080; text-decoration-color: #008080; font-weight: bold\">-0.0968</span><span style=\"font-weight: bold\">])</span>\n",
       "</pre>\n"
      ],
      "text/plain": [
       "Output \u001b[1;35mtensor\u001b[0m\u001b[1m(\u001b[0m\u001b[1m[\u001b[0m \u001b[1;36m0.3736\u001b[0m, \u001b[1;36m-0.2751\u001b[0m, \u001b[1;36m-1.3531\u001b[0m,  \u001b[1;36m0.4276\u001b[0m,  \u001b[1;36m1.3035\u001b[0m, \u001b[1;36m-1.4730\u001b[0m,  \u001b[1;36m0.8378\u001b[0m, \u001b[1;36m-0.0968\u001b[0m\u001b[1m]\u001b[0m\u001b[1m)\u001b[0m\n"
      ]
     },
     "metadata": {},
     "output_type": "display_data"
    },
    {
     "data": {
      "text/html": [
       "<pre style=\"white-space:pre;overflow-x:auto;line-height:normal;font-family:Menlo,'DejaVu Sans Mono',consolas,'Courier New',monospace\">Part1 <span style=\"color: #800080; text-decoration-color: #800080; font-weight: bold\">tensor</span><span style=\"font-weight: bold\">([</span> <span style=\"color: #008080; text-decoration-color: #008080; font-weight: bold\">0.3736</span>, <span style=\"color: #008080; text-decoration-color: #008080; font-weight: bold\">-0.2751</span><span style=\"font-weight: bold\">])</span>\n",
       "</pre>\n"
      ],
      "text/plain": [
       "Part1 \u001b[1;35mtensor\u001b[0m\u001b[1m(\u001b[0m\u001b[1m[\u001b[0m \u001b[1;36m0.3736\u001b[0m, \u001b[1;36m-0.2751\u001b[0m\u001b[1m]\u001b[0m\u001b[1m)\u001b[0m\n"
      ]
     },
     "metadata": {},
     "output_type": "display_data"
    },
    {
     "data": {
      "text/html": [
       "<pre style=\"white-space:pre;overflow-x:auto;line-height:normal;font-family:Menlo,'DejaVu Sans Mono',consolas,'Courier New',monospace\">Update <span style=\"color: #800080; text-decoration-color: #800080; font-weight: bold\">tensor</span><span style=\"font-weight: bold\">([</span><span style=\"color: #008080; text-decoration-color: #008080; font-weight: bold\">2.2013</span><span style=\"font-weight: bold\">])</span>\n",
       "</pre>\n"
      ],
      "text/plain": [
       "Update \u001b[1;35mtensor\u001b[0m\u001b[1m(\u001b[0m\u001b[1m[\u001b[0m\u001b[1;36m2.2013\u001b[0m\u001b[1m]\u001b[0m\u001b[1m)\u001b[0m\n"
      ]
     },
     "metadata": {},
     "output_type": "display_data"
    },
    {
     "data": {
      "text/html": [
       "<pre style=\"white-space:pre;overflow-x:auto;line-height:normal;font-family:Menlo,'DejaVu Sans Mono',consolas,'Courier New',monospace\">Part2 <span style=\"color: #800080; text-decoration-color: #800080; font-weight: bold\">tensor</span><span style=\"font-weight: bold\">([</span> <span style=\"color: #008080; text-decoration-color: #008080; font-weight: bold\">0.4276</span>,  <span style=\"color: #008080; text-decoration-color: #008080; font-weight: bold\">1.3035</span>, <span style=\"color: #008080; text-decoration-color: #008080; font-weight: bold\">-1.4730</span>,  <span style=\"color: #008080; text-decoration-color: #008080; font-weight: bold\">0.8378</span>, <span style=\"color: #008080; text-decoration-color: #008080; font-weight: bold\">-0.0968</span><span style=\"font-weight: bold\">])</span>\n",
       "</pre>\n"
      ],
      "text/plain": [
       "Part2 \u001b[1;35mtensor\u001b[0m\u001b[1m(\u001b[0m\u001b[1m[\u001b[0m \u001b[1;36m0.4276\u001b[0m,  \u001b[1;36m1.3035\u001b[0m, \u001b[1;36m-1.4730\u001b[0m,  \u001b[1;36m0.8378\u001b[0m, \u001b[1;36m-0.0968\u001b[0m\u001b[1m]\u001b[0m\u001b[1m)\u001b[0m\n"
      ]
     },
     "metadata": {},
     "output_type": "display_data"
    },
    {
     "data": {
      "text/html": [
       "<pre style=\"white-space:pre;overflow-x:auto;line-height:normal;font-family:Menlo,'DejaVu Sans Mono',consolas,'Courier New',monospace\">Output <span style=\"color: #800080; text-decoration-color: #800080; font-weight: bold\">tensor</span><span style=\"font-weight: bold\">([</span> <span style=\"color: #008080; text-decoration-color: #008080; font-weight: bold\">0.3736</span>, <span style=\"color: #008080; text-decoration-color: #008080; font-weight: bold\">-0.2751</span>,  <span style=\"color: #008080; text-decoration-color: #008080; font-weight: bold\">2.2013</span>,  <span style=\"color: #008080; text-decoration-color: #008080; font-weight: bold\">0.4276</span>,  <span style=\"color: #008080; text-decoration-color: #008080; font-weight: bold\">1.3035</span>, <span style=\"color: #008080; text-decoration-color: #008080; font-weight: bold\">-1.4730</span>,  <span style=\"color: #008080; text-decoration-color: #008080; font-weight: bold\">0.8378</span>, <span style=\"color: #008080; text-decoration-color: #008080; font-weight: bold\">-0.0968</span><span style=\"font-weight: bold\">])</span>\n",
       "</pre>\n"
      ],
      "text/plain": [
       "Output \u001b[1;35mtensor\u001b[0m\u001b[1m(\u001b[0m\u001b[1m[\u001b[0m \u001b[1;36m0.3736\u001b[0m, \u001b[1;36m-0.2751\u001b[0m,  \u001b[1;36m2.2013\u001b[0m,  \u001b[1;36m0.4276\u001b[0m,  \u001b[1;36m1.3035\u001b[0m, \u001b[1;36m-1.4730\u001b[0m,  \u001b[1;36m0.8378\u001b[0m, \u001b[1;36m-0.0968\u001b[0m\u001b[1m]\u001b[0m\u001b[1m)\u001b[0m\n"
      ]
     },
     "metadata": {},
     "output_type": "display_data"
    },
    {
     "data": {
      "text/html": [
       "<pre style=\"white-space:pre;overflow-x:auto;line-height:normal;font-family:Menlo,'DejaVu Sans Mono',consolas,'Courier New',monospace\">Part1 <span style=\"color: #800080; text-decoration-color: #800080; font-weight: bold\">tensor</span><span style=\"font-weight: bold\">([])</span>\n",
       "</pre>\n"
      ],
      "text/plain": [
       "Part1 \u001b[1;35mtensor\u001b[0m\u001b[1m(\u001b[0m\u001b[1m[\u001b[0m\u001b[1m]\u001b[0m\u001b[1m)\u001b[0m\n"
      ]
     },
     "metadata": {},
     "output_type": "display_data"
    },
    {
     "data": {
      "text/html": [
       "<pre style=\"white-space:pre;overflow-x:auto;line-height:normal;font-family:Menlo,'DejaVu Sans Mono',consolas,'Courier New',monospace\">Update <span style=\"color: #800080; text-decoration-color: #800080; font-weight: bold\">tensor</span><span style=\"font-weight: bold\">([</span><span style=\"color: #008080; text-decoration-color: #008080; font-weight: bold\">-0.6371</span><span style=\"font-weight: bold\">])</span>\n",
       "</pre>\n"
      ],
      "text/plain": [
       "Update \u001b[1;35mtensor\u001b[0m\u001b[1m(\u001b[0m\u001b[1m[\u001b[0m\u001b[1;36m-0.6371\u001b[0m\u001b[1m]\u001b[0m\u001b[1m)\u001b[0m\n"
      ]
     },
     "metadata": {},
     "output_type": "display_data"
    },
    {
     "data": {
      "text/html": [
       "<pre style=\"white-space:pre;overflow-x:auto;line-height:normal;font-family:Menlo,'DejaVu Sans Mono',consolas,'Courier New',monospace\">Part2 <span style=\"color: #800080; text-decoration-color: #800080; font-weight: bold\">tensor</span><span style=\"font-weight: bold\">([</span><span style=\"color: #008080; text-decoration-color: #008080; font-weight: bold\">-0.2751</span>,  <span style=\"color: #008080; text-decoration-color: #008080; font-weight: bold\">2.2013</span>,  <span style=\"color: #008080; text-decoration-color: #008080; font-weight: bold\">0.4276</span>,  <span style=\"color: #008080; text-decoration-color: #008080; font-weight: bold\">1.3035</span>, <span style=\"color: #008080; text-decoration-color: #008080; font-weight: bold\">-1.4730</span>,  <span style=\"color: #008080; text-decoration-color: #008080; font-weight: bold\">0.8378</span>, <span style=\"color: #008080; text-decoration-color: #008080; font-weight: bold\">-0.0968</span><span style=\"font-weight: bold\">])</span>\n",
       "</pre>\n"
      ],
      "text/plain": [
       "Part2 \u001b[1;35mtensor\u001b[0m\u001b[1m(\u001b[0m\u001b[1m[\u001b[0m\u001b[1;36m-0.2751\u001b[0m,  \u001b[1;36m2.2013\u001b[0m,  \u001b[1;36m0.4276\u001b[0m,  \u001b[1;36m1.3035\u001b[0m, \u001b[1;36m-1.4730\u001b[0m,  \u001b[1;36m0.8378\u001b[0m, \u001b[1;36m-0.0968\u001b[0m\u001b[1m]\u001b[0m\u001b[1m)\u001b[0m\n"
      ]
     },
     "metadata": {},
     "output_type": "display_data"
    },
    {
     "data": {
      "text/html": [
       "<pre style=\"white-space:pre;overflow-x:auto;line-height:normal;font-family:Menlo,'DejaVu Sans Mono',consolas,'Courier New',monospace\">Output <span style=\"color: #800080; text-decoration-color: #800080; font-weight: bold\">tensor</span><span style=\"font-weight: bold\">([</span><span style=\"color: #008080; text-decoration-color: #008080; font-weight: bold\">-0.6371</span>, <span style=\"color: #008080; text-decoration-color: #008080; font-weight: bold\">-0.2751</span>,  <span style=\"color: #008080; text-decoration-color: #008080; font-weight: bold\">2.2013</span>,  <span style=\"color: #008080; text-decoration-color: #008080; font-weight: bold\">0.4276</span>,  <span style=\"color: #008080; text-decoration-color: #008080; font-weight: bold\">1.3035</span>, <span style=\"color: #008080; text-decoration-color: #008080; font-weight: bold\">-1.4730</span>,  <span style=\"color: #008080; text-decoration-color: #008080; font-weight: bold\">0.8378</span>, <span style=\"color: #008080; text-decoration-color: #008080; font-weight: bold\">-0.0968</span><span style=\"font-weight: bold\">])</span>\n",
       "</pre>\n"
      ],
      "text/plain": [
       "Output \u001b[1;35mtensor\u001b[0m\u001b[1m(\u001b[0m\u001b[1m[\u001b[0m\u001b[1;36m-0.6371\u001b[0m, \u001b[1;36m-0.2751\u001b[0m,  \u001b[1;36m2.2013\u001b[0m,  \u001b[1;36m0.4276\u001b[0m,  \u001b[1;36m1.3035\u001b[0m, \u001b[1;36m-1.4730\u001b[0m,  \u001b[1;36m0.8378\u001b[0m, \u001b[1;36m-0.0968\u001b[0m\u001b[1m]\u001b[0m\u001b[1m)\u001b[0m\n"
      ]
     },
     "metadata": {},
     "output_type": "display_data"
    },
    {
     "data": {
      "text/html": [
       "<pre style=\"white-space:pre;overflow-x:auto;line-height:normal;font-family:Menlo,'DejaVu Sans Mono',consolas,'Courier New',monospace\">ONNX model saved at: .<span style=\"color: #800080; text-decoration-color: #800080\">/models/</span><span style=\"color: #ff00ff; text-decoration-color: #ff00ff\">final.onnx</span>\n",
       "</pre>\n"
      ],
      "text/plain": [
       "ONNX model saved at: .\u001b[35m/models/\u001b[0m\u001b[95mfinal.onnx\u001b[0m\n"
      ]
     },
     "metadata": {},
     "output_type": "display_data"
    }
   ],
   "source": [
    "import torch\n",
    "\n",
    "class ScatterNDModule(torch.nn.Module):\n",
    "    def forward(self, data, indices, updates):\n",
    "        # data: (8,)\n",
    "        # indices: (M, 1)\n",
    "        # updates: (M,)\n",
    "        \n",
    "        output = data.clone()\n",
    "        \n",
    "        M = indices.size(0)\n",
    "        for i in range(M):\n",
    "            idx = indices[i, 0]\n",
    "            part1 = output[0:idx] \n",
    "            print(\"Part1\",part1)\n",
    "            update = updates[i:i+1]\n",
    "            print(\"Update\",update)\n",
    "            part2 = output[idx + 1:output.size(0)]\n",
    "            print(\"Part2\",part2)\n",
    "            output = torch.cat([part1, update, part2], dim=0)\n",
    "            print(\"Output\",output)\n",
    "\n",
    "        return output\n",
    "\n",
    "\n",
    "if __name__ == \"__main__\":\n",
    "    module = ScatterNDModule()\n",
    "    # output = module(data, indices, updates)\n",
    "    # print(\"Updated Output:\", output)\n",
    "    print(input_values)\n",
    "    \n",
    "    onnx_path = \"./models/final.onnx\"\n",
    "    torch.onnx.export(module, (data, indices, updates), onnx_path,\n",
    "                    input_names=[\"data\", \"indices\", \"updates\"],\n",
    "                    output_names=[\"output\"],\n",
    "                    opset_version=17)\n",
    "\n",
    "    print(\"ONNX model saved at:\", onnx_path)"
   ]
  },
  {
   "cell_type": "markdown",
   "metadata": {},
   "source": [
    "## ORT Inference"
   ]
  },
  {
   "cell_type": "code",
   "execution_count": 17,
   "metadata": {},
   "outputs": [
    {
     "data": {
      "text/html": [
       "<pre style=\"white-space:pre;overflow-x:auto;line-height:normal;font-family:Menlo,'DejaVu Sans Mono',consolas,'Courier New',monospace\"><span style=\"font-weight: bold\">{</span>\n",
       "    <span style=\"color: #008000; text-decoration-color: #008000\">'data'</span>: <span style=\"color: #800080; text-decoration-color: #800080; font-weight: bold\">array</span><span style=\"font-weight: bold\">([</span> <span style=\"color: #008080; text-decoration-color: #008080; font-weight: bold\">0.54924595</span>, <span style=\"color: #008080; text-decoration-color: #008080; font-weight: bold\">-0.488373</span>  , <span style=\"color: #008080; text-decoration-color: #008080; font-weight: bold\">-0.522974</span>  , <span style=\"color: #008080; text-decoration-color: #008080; font-weight: bold\">-1.842488</span>  ,  <span style=\"color: #008080; text-decoration-color: #008080; font-weight: bold\">0.38043967</span>,\n",
       "        <span style=\"color: #008080; text-decoration-color: #008080; font-weight: bold\">1.2830617</span> , <span style=\"color: #008080; text-decoration-color: #008080; font-weight: bold\">-0.8789149</span> ,  <span style=\"color: #008080; text-decoration-color: #008080; font-weight: bold\">0.6629215</span> <span style=\"font-weight: bold\">]</span>, <span style=\"color: #808000; text-decoration-color: #808000\">dtype</span>=<span style=\"color: #800080; text-decoration-color: #800080\">float32</span><span style=\"font-weight: bold\">)</span>,\n",
       "    <span style=\"color: #008000; text-decoration-color: #008000\">'indices'</span>: <span style=\"color: #800080; text-decoration-color: #800080; font-weight: bold\">array</span><span style=\"font-weight: bold\">([[</span><span style=\"color: #008080; text-decoration-color: #008080; font-weight: bold\">1</span><span style=\"font-weight: bold\">]</span>,\n",
       "       <span style=\"font-weight: bold\">[</span><span style=\"color: #008080; text-decoration-color: #008080; font-weight: bold\">0</span><span style=\"font-weight: bold\">]</span>,\n",
       "       <span style=\"font-weight: bold\">[</span><span style=\"color: #008080; text-decoration-color: #008080; font-weight: bold\">0</span><span style=\"font-weight: bold\">]</span>,\n",
       "       <span style=\"font-weight: bold\">[</span><span style=\"color: #008080; text-decoration-color: #008080; font-weight: bold\">0</span><span style=\"font-weight: bold\">]])</span>,\n",
       "    <span style=\"color: #008000; text-decoration-color: #008000\">'updates'</span>: <span style=\"color: #800080; text-decoration-color: #800080; font-weight: bold\">array</span><span style=\"font-weight: bold\">([</span> <span style=\"color: #008080; text-decoration-color: #008080; font-weight: bold\">1.0100797</span> , <span style=\"color: #008080; text-decoration-color: #008080; font-weight: bold\">-0.11505555</span>, <span style=\"color: #008080; text-decoration-color: #008080; font-weight: bold\">-1.1076103</span> ,  <span style=\"color: #008080; text-decoration-color: #008080; font-weight: bold\">0.0081938</span> <span style=\"font-weight: bold\">]</span>, <span style=\"color: #808000; text-decoration-color: #808000\">dtype</span>=<span style=\"color: #800080; text-decoration-color: #800080\">float32</span><span style=\"font-weight: bold\">)</span>\n",
       "<span style=\"font-weight: bold\">}</span>\n",
       "</pre>\n"
      ],
      "text/plain": [
       "\u001b[1m{\u001b[0m\n",
       "    \u001b[32m'data'\u001b[0m: \u001b[1;35marray\u001b[0m\u001b[1m(\u001b[0m\u001b[1m[\u001b[0m \u001b[1;36m0.54924595\u001b[0m, \u001b[1;36m-0.488373\u001b[0m  , \u001b[1;36m-0.522974\u001b[0m  , \u001b[1;36m-1.842488\u001b[0m  ,  \u001b[1;36m0.38043967\u001b[0m,\n",
       "        \u001b[1;36m1.2830617\u001b[0m , \u001b[1;36m-0.8789149\u001b[0m ,  \u001b[1;36m0.6629215\u001b[0m \u001b[1m]\u001b[0m, \u001b[33mdtype\u001b[0m=\u001b[35mfloat32\u001b[0m\u001b[1m)\u001b[0m,\n",
       "    \u001b[32m'indices'\u001b[0m: \u001b[1;35marray\u001b[0m\u001b[1m(\u001b[0m\u001b[1m[\u001b[0m\u001b[1m[\u001b[0m\u001b[1;36m1\u001b[0m\u001b[1m]\u001b[0m,\n",
       "       \u001b[1m[\u001b[0m\u001b[1;36m0\u001b[0m\u001b[1m]\u001b[0m,\n",
       "       \u001b[1m[\u001b[0m\u001b[1;36m0\u001b[0m\u001b[1m]\u001b[0m,\n",
       "       \u001b[1m[\u001b[0m\u001b[1;36m0\u001b[0m\u001b[1m]\u001b[0m\u001b[1m]\u001b[0m\u001b[1m)\u001b[0m,\n",
       "    \u001b[32m'updates'\u001b[0m: \u001b[1;35marray\u001b[0m\u001b[1m(\u001b[0m\u001b[1m[\u001b[0m \u001b[1;36m1.0100797\u001b[0m , \u001b[1;36m-0.11505555\u001b[0m, \u001b[1;36m-1.1076103\u001b[0m ,  \u001b[1;36m0.0081938\u001b[0m \u001b[1m]\u001b[0m, \u001b[33mdtype\u001b[0m=\u001b[35mfloat32\u001b[0m\u001b[1m)\u001b[0m\n",
       "\u001b[1m}\u001b[0m\n"
      ]
     },
     "metadata": {},
     "output_type": "display_data"
    },
    {
     "data": {
      "text/html": [
       "<pre style=\"white-space:pre;overflow-x:auto;line-height:normal;font-family:Menlo,'DejaVu Sans Mono',consolas,'Courier New',monospace\"><span style=\"font-weight: bold\">[</span>\n",
       "    <span style=\"color: #800080; text-decoration-color: #800080; font-weight: bold\">array</span><span style=\"font-weight: bold\">([</span> <span style=\"color: #008080; text-decoration-color: #008080; font-weight: bold\">0.0081938</span> ,  <span style=\"color: #008080; text-decoration-color: #008080; font-weight: bold\">1.0100797</span> , <span style=\"color: #008080; text-decoration-color: #008080; font-weight: bold\">-0.522974</span>  , <span style=\"color: #008080; text-decoration-color: #008080; font-weight: bold\">-1.842488</span>  ,  <span style=\"color: #008080; text-decoration-color: #008080; font-weight: bold\">0.38043967</span>,\n",
       "        <span style=\"color: #008080; text-decoration-color: #008080; font-weight: bold\">1.2830617</span> , <span style=\"color: #008080; text-decoration-color: #008080; font-weight: bold\">-0.8789149</span> ,  <span style=\"color: #008080; text-decoration-color: #008080; font-weight: bold\">0.6629215</span> <span style=\"font-weight: bold\">]</span>, <span style=\"color: #808000; text-decoration-color: #808000\">dtype</span>=<span style=\"color: #800080; text-decoration-color: #800080\">float32</span><span style=\"font-weight: bold\">)</span>\n",
       "<span style=\"font-weight: bold\">]</span>\n",
       "</pre>\n"
      ],
      "text/plain": [
       "\u001b[1m[\u001b[0m\n",
       "    \u001b[1;35marray\u001b[0m\u001b[1m(\u001b[0m\u001b[1m[\u001b[0m \u001b[1;36m0.0081938\u001b[0m ,  \u001b[1;36m1.0100797\u001b[0m , \u001b[1;36m-0.522974\u001b[0m  , \u001b[1;36m-1.842488\u001b[0m  ,  \u001b[1;36m0.38043967\u001b[0m,\n",
       "        \u001b[1;36m1.2830617\u001b[0m , \u001b[1;36m-0.8789149\u001b[0m ,  \u001b[1;36m0.6629215\u001b[0m \u001b[1m]\u001b[0m, \u001b[33mdtype\u001b[0m=\u001b[35mfloat32\u001b[0m\u001b[1m)\u001b[0m\n",
       "\u001b[1m]\u001b[0m\n"
      ]
     },
     "metadata": {},
     "output_type": "display_data"
    },
    {
     "data": {
      "text/html": [
       "<pre style=\"white-space:pre;overflow-x:auto;line-height:normal;font-family:Menlo,'DejaVu Sans Mono',consolas,'Courier New',monospace\"><span style=\"font-weight: bold\">[</span>\n",
       "    <span style=\"color: #800080; text-decoration-color: #800080; font-weight: bold\">array</span><span style=\"font-weight: bold\">([</span> <span style=\"color: #008080; text-decoration-color: #008080; font-weight: bold\">0.0081938</span> ,  <span style=\"color: #008080; text-decoration-color: #008080; font-weight: bold\">1.0100797</span> , <span style=\"color: #008080; text-decoration-color: #008080; font-weight: bold\">-0.522974</span>  , <span style=\"color: #008080; text-decoration-color: #008080; font-weight: bold\">-1.842488</span>  ,  <span style=\"color: #008080; text-decoration-color: #008080; font-weight: bold\">0.38043967</span>,\n",
       "        <span style=\"color: #008080; text-decoration-color: #008080; font-weight: bold\">1.2830617</span> , <span style=\"color: #008080; text-decoration-color: #008080; font-weight: bold\">-0.8789149</span> ,  <span style=\"color: #008080; text-decoration-color: #008080; font-weight: bold\">0.6629215</span> <span style=\"font-weight: bold\">]</span>, <span style=\"color: #808000; text-decoration-color: #808000\">dtype</span>=<span style=\"color: #800080; text-decoration-color: #800080\">float32</span><span style=\"font-weight: bold\">)</span>\n",
       "<span style=\"font-weight: bold\">]</span>\n",
       "</pre>\n"
      ],
      "text/plain": [
       "\u001b[1m[\u001b[0m\n",
       "    \u001b[1;35marray\u001b[0m\u001b[1m(\u001b[0m\u001b[1m[\u001b[0m \u001b[1;36m0.0081938\u001b[0m ,  \u001b[1;36m1.0100797\u001b[0m , \u001b[1;36m-0.522974\u001b[0m  , \u001b[1;36m-1.842488\u001b[0m  ,  \u001b[1;36m0.38043967\u001b[0m,\n",
       "        \u001b[1;36m1.2830617\u001b[0m , \u001b[1;36m-0.8789149\u001b[0m ,  \u001b[1;36m0.6629215\u001b[0m \u001b[1m]\u001b[0m, \u001b[33mdtype\u001b[0m=\u001b[35mfloat32\u001b[0m\u001b[1m)\u001b[0m\n",
       "\u001b[1m]\u001b[0m\n"
      ]
     },
     "metadata": {},
     "output_type": "display_data"
    }
   ],
   "source": [
    "\n",
    "#INPUTS\n",
    "\n",
    "ort_session=ort.InferenceSession(\"./models/scatternd.onnx\")\n",
    "\n",
    "input_values =  [np.random.randn(*x.shape).astype(np.float32) if i!=1 else np.random.randint(0,5,x.shape).astype(np.int64) for i,x in enumerate(ort_session.get_inputs())]\n",
    "input_dict = dict(zip((x.name for x in ort_session.get_inputs()),input_values))\n",
    "\n",
    "print(input_dict)\n",
    "\n",
    "d,i,u=input_values\n",
    "\n",
    "data = torch.from_numpy(d)\n",
    "indices = torch.from_numpy(i)\n",
    "updates = torch.from_numpy(u)\n",
    "\n",
    "\n",
    "ort_session=ort.InferenceSession(\"./models/scatternd.onnx\")\n",
    "output1=ort_session.run(None,input_dict)\n",
    "print(output1)\n",
    "\n",
    "\n",
    "ort_session=ort.InferenceSession(\"./models/final.onnx\")\n",
    "output=ort_session.run(None,input_dict)\n",
    "print(output)\n"
   ]
  },
  {
   "cell_type": "code",
   "execution_count": 18,
   "metadata": {},
   "outputs": [
    {
     "data": {
      "text/plain": [
       "np.float32(0.0)"
      ]
     },
     "execution_count": 18,
     "metadata": {},
     "output_type": "execute_result"
    }
   ],
   "source": [
    "from sklearn.metrics import mean_squared_error\n",
    "\n",
    "mean_squared_error(output,output1)"
   ]
  }
 ],
 "metadata": {
  "kernelspec": {
   "display_name": "mlenv",
   "language": "python",
   "name": "python3"
  },
  "language_info": {
   "codemirror_mode": {
    "name": "ipython",
    "version": 3
   },
   "file_extension": ".py",
   "mimetype": "text/x-python",
   "name": "python",
   "nbconvert_exporter": "python",
   "pygments_lexer": "ipython3",
   "version": "3.13.1"
  }
 },
 "nbformat": 4,
 "nbformat_minor": 2
}
