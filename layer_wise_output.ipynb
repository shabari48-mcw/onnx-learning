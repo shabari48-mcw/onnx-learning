{
 "cells": [
  {
   "cell_type": "code",
   "execution_count": 2,
   "metadata": {},
   "outputs": [],
   "source": [
    "import onnx\n",
    "import onnxruntime as ort\n",
    "import numpy as np\n",
    "import onnx_graphsurgeon as gs\n",
    "import os"
   ]
  },
  {
   "cell_type": "code",
   "execution_count": 13,
   "metadata": {},
   "outputs": [],
   "source": [
    "CNN= \"./models/CNN.onnx\""
   ]
  },
  {
   "cell_type": "code",
   "execution_count": 14,
   "metadata": {},
   "outputs": [],
   "source": [
    "model = onnx.load(CNN)\n",
    "graph = gs.import_onnx(model)\n"
   ]
  },
  {
   "cell_type": "code",
   "execution_count": 15,
   "metadata": {},
   "outputs": [
    {
     "data": {
      "text/plain": [
       "([Variable (CNN_input): (shape=[1, 3, 64, 64], dtype=float32)],\n",
       " [Variable (Predicted_leaf_disease): (shape=[1, 10], dtype=float32)])"
      ]
     },
     "execution_count": 15,
     "metadata": {},
     "output_type": "execute_result"
    }
   ],
   "source": [
    "graph.inputs, graph.outputs\n"
   ]
  },
  {
   "cell_type": "code",
   "execution_count": 16,
   "metadata": {},
   "outputs": [
    {
     "data": {
      "text/plain": [
       "['/conv_block_1/conv_block_1.0/Conv',\n",
       " '/conv_block_1/conv_block_1.1/Relu',\n",
       " '/conv_block_1/conv_block_1.2/Conv',\n",
       " '/conv_block_1/conv_block_1.3/Relu',\n",
       " '/conv_block_1/conv_block_1.4/MaxPool',\n",
       " '/conv_block_2/conv_block_2.0/Conv',\n",
       " '/conv_block_2/conv_block_2.1/Relu',\n",
       " '/conv_block_2/conv_block_2.2/Conv',\n",
       " '/conv_block_2/conv_block_2.3/Relu',\n",
       " '/conv_block_2/conv_block_2.4/MaxPool',\n",
       " '/classifier/classifier.0/Flatten',\n",
       " '/classifier/classifier.1/Gemm']"
      ]
     },
     "execution_count": 16,
     "metadata": {},
     "output_type": "execute_result"
    }
   ],
   "source": [
    "inter_nodes=[nodes.name for nodes in graph.nodes]\n",
    "inter_nodes"
   ]
  },
  {
   "cell_type": "code",
   "execution_count": 17,
   "metadata": {},
   "outputs": [],
   "source": [
    "def add_intermediate_outputs(model_path):\n",
    "  \n",
    "\n",
    "    model = onnx.load(model_path)\n",
    "    graph = gs.import_onnx(model)\n",
    "\n",
    "    \n",
    "    # Add intermediate outputs\n",
    "    for node in graph.nodes:\n",
    "        if node.name in inter_nodes:\n",
    "           \n",
    "            output_name = f\"{node.name}_output\"\n",
    "            \n",
    "            original_output = node.outputs[0]\n",
    "            dtype = original_output.dtype\n",
    "            shape = original_output.shape\n",
    "            \n",
    "            \n",
    "            new_tensor = gs.Variable(\n",
    "                name=output_name,\n",
    "                dtype=dtype if dtype is not None else np.float32,\n",
    "                shape=shape\n",
    "            )\n",
    "            \n",
    "            graph.outputs.append(new_tensor)\n",
    "            \n",
    "            \n",
    "            identity_node = gs.Node(\n",
    "                op=\"Identity\",\n",
    "                name=f\"{node.name}_identity\",\n",
    "                inputs=[node.outputs[0]],\n",
    "                outputs=[new_tensor]\n",
    "            )\n",
    "            \n",
    "            graph.nodes.append(identity_node)\n",
    "            \n",
    "    \n",
    "  \n",
    "    modified_model_path = model_path.replace('.onnx', '_with_outputs.onnx')\n",
    "    onnx.save(gs.export_onnx(graph), modified_model_path)\n",
    "    print(f\"Modified model saved with  intermediate outputs\")\n",
    "    return modified_model_path\n",
    "\n",
    "\n",
    "def save_layer_outputs(session, input_data, output_dir=\"layer_outputs\"):\n",
    "    \n",
    "    \"\"\"\n",
    "    Run inference and save all layer outputs as .npy files\n",
    "    \n",
    "    Args:\n",
    "        session: ONNX Runtime session\n",
    "        input_data: Input numpy array\n",
    "        output_dir: Directory to save layer outputs\n",
    "    \"\"\"\n",
    "   \n",
    "    os.makedirs(output_dir, exist_ok=True)\n",
    "    \n",
    "    \n",
    "    input_name = session.get_inputs()[0].name\n",
    "    output_names = [output.name for output in session.get_outputs()]\n",
    "    \n",
    "    outputs = session.run(output_names, {input_name: input_data})\n",
    "    \n",
    "\n",
    "    for layer_name, output in zip(output_names, outputs):\n",
    "        layer_name = layer_name.replace('/', '_')\n",
    "        output_path = os.path.join(output_dir, f\"{layer_name}.raw\")\n",
    "        output.tofile(output_path)\n",
    "        print(f\"Saved {layer_name} with shape {output.shape} to {output_path}\")\n"
   ]
  },
  {
   "cell_type": "code",
   "execution_count": null,
   "metadata": {},
   "outputs": [
    {
     "name": "stdout",
     "output_type": "stream",
     "text": [
      "Modified model saved with  intermediate outputs\n",
      "Saved Predicted_leaf_disease with shape (1, 10) to layer_outputs\\Predicted_leaf_disease.raw\n",
      "Saved _conv_block_1_conv_block_1.0_Conv_output with shape (1, 10, 64, 64) to layer_outputs\\_conv_block_1_conv_block_1.0_Conv_output.raw\n",
      "Saved _conv_block_1_conv_block_1.1_Relu_output with shape (1, 10, 64, 64) to layer_outputs\\_conv_block_1_conv_block_1.1_Relu_output.raw\n",
      "Saved _conv_block_1_conv_block_1.2_Conv_output with shape (1, 10, 64, 64) to layer_outputs\\_conv_block_1_conv_block_1.2_Conv_output.raw\n",
      "Saved _conv_block_1_conv_block_1.3_Relu_output with shape (1, 10, 64, 64) to layer_outputs\\_conv_block_1_conv_block_1.3_Relu_output.raw\n",
      "Saved _conv_block_1_conv_block_1.4_MaxPool_output with shape (1, 10, 32, 32) to layer_outputs\\_conv_block_1_conv_block_1.4_MaxPool_output.raw\n",
      "Saved _conv_block_2_conv_block_2.0_Conv_output with shape (1, 10, 32, 32) to layer_outputs\\_conv_block_2_conv_block_2.0_Conv_output.raw\n",
      "Saved _conv_block_2_conv_block_2.1_Relu_output with shape (1, 10, 32, 32) to layer_outputs\\_conv_block_2_conv_block_2.1_Relu_output.raw\n",
      "Saved _conv_block_2_conv_block_2.2_Conv_output with shape (1, 10, 32, 32) to layer_outputs\\_conv_block_2_conv_block_2.2_Conv_output.raw\n",
      "Saved _conv_block_2_conv_block_2.3_Relu_output with shape (1, 10, 32, 32) to layer_outputs\\_conv_block_2_conv_block_2.3_Relu_output.raw\n",
      "Saved _conv_block_2_conv_block_2.4_MaxPool_output with shape (1, 10, 16, 16) to layer_outputs\\_conv_block_2_conv_block_2.4_MaxPool_output.raw\n",
      "Saved _classifier_classifier.0_Flatten_output with shape (1, 2560) to layer_outputs\\_classifier_classifier.0_Flatten_output.raw\n",
      "Saved _classifier_classifier.1_Gemm_output with shape (1, 10) to layer_outputs\\_classifier_classifier.1_Gemm_output.raw\n"
     ]
    }
   ],
   "source": [
    "\n",
    "CNN = \"./models/CNN.onnx\"    \n",
    "\n",
    "modified_model_path = add_intermediate_outputs(CNN)\n",
    "\n",
    "session = ort.InferenceSession(modified_model_path)\n",
    "\n",
    "input_data = np.random.randn(1, 3, 64, 64).astype(np.float32)\n",
    "\n",
    "save_layer_outputs(session, input_data)\n",
    "\n"
   ]
  },
  {
   "cell_type": "code",
   "execution_count": 19,
   "metadata": {},
   "outputs": [
    {
     "name": "stdout",
     "output_type": "stream",
     "text": [
      "Predicted_leaf_disease\n",
      "/conv_block_1/conv_block_1.0/Conv_output\n",
      "/conv_block_1/conv_block_1.1/Relu_output\n",
      "/conv_block_1/conv_block_1.2/Conv_output\n",
      "/conv_block_1/conv_block_1.3/Relu_output\n",
      "/conv_block_1/conv_block_1.4/MaxPool_output\n",
      "/conv_block_2/conv_block_2.0/Conv_output\n",
      "/conv_block_2/conv_block_2.1/Relu_output\n",
      "/conv_block_2/conv_block_2.2/Conv_output\n",
      "/conv_block_2/conv_block_2.3/Relu_output\n",
      "/conv_block_2/conv_block_2.4/MaxPool_output\n",
      "/classifier/classifier.0/Flatten_output\n",
      "/classifier/classifier.1/Gemm_output\n"
     ]
    }
   ],
   "source": [
    "for output in session.get_outputs():\n",
    "    print(output.name)\n"
   ]
  },
  {
   "cell_type": "code",
   "execution_count": 3,
   "metadata": {},
   "outputs": [
    {
     "data": {
      "text/plain": [
       "array([1.16512433e-001, 5.13032150e-315, 0.00000000e+000, ...,\n",
       "       3.21901758e+004, 5.06043204e+004, 5.22737208e+003], shape=(1280,))"
      ]
     },
     "execution_count": 3,
     "metadata": {},
     "output_type": "execute_result"
    }
   ],
   "source": [
    "np.fromfile('./layer_outputs/_classifier_classifier.0_Flatten_output.raw')"
   ]
  },
  {
   "cell_type": "code",
   "execution_count": null,
   "metadata": {},
   "outputs": [],
   "source": []
  }
 ],
 "metadata": {
  "kernelspec": {
   "display_name": "mlenv",
   "language": "python",
   "name": "python3"
  },
  "language_info": {
   "codemirror_mode": {
    "name": "ipython",
    "version": 3
   },
   "file_extension": ".py",
   "mimetype": "text/x-python",
   "name": "python",
   "nbconvert_exporter": "python",
   "pygments_lexer": "ipython3",
   "version": "3.13.1"
  }
 },
 "nbformat": 4,
 "nbformat_minor": 2
}
