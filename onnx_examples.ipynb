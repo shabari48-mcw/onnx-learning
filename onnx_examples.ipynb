{
 "cells": [
  {
   "cell_type": "markdown",
   "metadata": {},
   "source": [
    "Creating a Graph/Model"
   ]
  },
  {
   "cell_type": "code",
   "execution_count": 2,
   "metadata": {},
   "outputs": [],
   "source": [
    "import onnx_graphsurgeon as gs\n",
    "import onnxruntime as rt\n",
    "import numpy as np\n",
    "import onnx\n",
    "\n",
    "X = gs.Variable(name=\"X\", dtype=np.float32, shape=(3,3))\n",
    "Y = gs.Variable(name=\"Y\", dtype=np.float32, shape=(2,3))\n",
    "node = gs.Node(op=\"Relu\", inputs=[X], outputs=[Y])\n",
    "\n",
    "graph = gs.Graph(nodes=[node], inputs=[X], outputs=[Y])\n",
    "onnx.save(gs.export_onnx(graph), \"./models/test_Relu.onnx\")"
   ]
  },
  {
   "cell_type": "code",
   "execution_count": 3,
   "metadata": {},
   "outputs": [],
   "source": [
    "onnx.checker.check_model(\"./models/test_Relu.onnx\")"
   ]
  },
  {
   "cell_type": "code",
   "execution_count": 4,
   "metadata": {},
   "outputs": [
    {
     "name": "stdout",
     "output_type": "stream",
     "text": [
      "[3, 3] [2, 3]\n"
     ]
    }
   ],
   "source": [
    "graph = gs.import_onnx(onnx.load(\"./models/test_Relu.onnx\"))\n",
    "\n",
    "input_name = graph.inputs[0].shape\n",
    "output_name = graph.outputs[0].shape\n",
    "\n",
    "print(input_name, output_name)\n"
   ]
  },
  {
   "cell_type": "code",
   "execution_count": 5,
   "metadata": {},
   "outputs": [
    {
     "name": "stdout",
     "output_type": "stream",
     "text": [
      "[[-0.55743694  0.39447096  0.18217166]\n",
      " [-0.9242534   0.46393532 -0.27336538]\n",
      " [ 0.43655092 -0.39844665  0.3889202 ]]\n",
      "[[[0.         0.39447096 0.18217166]\n",
      "  [0.         0.46393532 0.        ]\n",
      "  [0.43655092 0.         0.3889202 ]]]\n"
     ]
    }
   ],
   "source": [
    "sess = rt.InferenceSession(\"./models/test_Relu.onnx\")\n",
    "\n",
    "input_data = np.random.uniform(-1,1,size=(3,3)).astype(np.float32)\n",
    "print(input_data)\n",
    "result = sess.run(None, {\"X\": input_data})\n",
    "print(np.array(result))"
   ]
  },
  {
   "cell_type": "code",
   "execution_count": 6,
   "metadata": {},
   "outputs": [
    {
     "name": "stdout",
     "output_type": "stream",
     "text": [
      "[Variable (Y): (shape=[2, 3], dtype=float32)]\n"
     ]
    }
   ],
   "source": [
    "print(graph.outputs)"
   ]
  },
  {
   "cell_type": "code",
   "execution_count": 7,
   "metadata": {},
   "outputs": [
    {
     "name": "stdout",
     "output_type": "stream",
     "text": [
      "[[ 0.20610574 -0.5023196  -0.80173314]\n",
      " [-0.9715784   0.9085708  -0.57180136]\n",
      " [-0.07007944 -0.60682905 -0.7079372 ]]\n",
      "[[[0.20610574 0.         0.         0.         0.9085708  0.\n",
      "   0.         0.         0.        ]]]\n"
     ]
    }
   ],
   "source": [
    "\n",
    "Y_intermediate = gs.Variable(name=\"Y_intermediate\", dtype=np.float32, shape=(3, 3))\n",
    "Y_final = gs.Variable(name=\"Y\", dtype=np.float32, shape=(2, 3))\n",
    "\n",
    "shape_tensor = gs.Constant(name=\"shape_tensor\", values=np.array([1, 9], dtype=np.int64))\n",
    "\n",
    "relu_node = gs.Node(op=\"Relu\", inputs=[X], outputs=[Y_intermediate])\n",
    "reshape_node = gs.Node(op=\"Reshape\", inputs=[Y_intermediate,shape_tensor], outputs=[Y_final])\n",
    "\n",
    "\n",
    "graph = gs.Graph(nodes=[relu_node,reshape_node], inputs=[X], outputs=[Y_final])\n",
    "onnx.save(gs.export_onnx(graph), \"./models/test_Relu_shape.onnx\")\n",
    "\n",
    "onnx.checker.check_model(\"./models/test_Relu_shape.onnx\")\n",
    "\n",
    "sess = rt.InferenceSession(\"./models/test_Relu_shape.onnx\")\n",
    "\n",
    "input_data = np.random.uniform(-1, 1, size=(3, 3)).astype(np.float32)\n",
    "print(input_data)\n",
    "result = sess.run(None, {\"X\": input_data})\n",
    "print(np.array(result))"
   ]
  },
  {
   "cell_type": "markdown",
   "metadata": {},
   "source": [
    "### Isolating a subgraph"
   ]
  },
  {
   "cell_type": "code",
   "execution_count": 8,
   "metadata": {},
   "outputs": [
    {
     "name": "stdout",
     "output_type": "stream",
     "text": [
      "[]\n"
     ]
    }
   ],
   "source": [
    "from onnx import shape_inference\n",
    "model = onnx.load(\"./models/resnet50.onnx\")\n",
    "\n",
    "graph = gs.import_onnx(model)\n",
    "\n",
    "print([subgraph for subgraph in graph.subgraphs()])"
   ]
  },
  {
   "cell_type": "code",
   "execution_count": 9,
   "metadata": {},
   "outputs": [],
   "source": [
    "\n",
    "import onnx_graphsurgeon as gs\n",
    "import numpy as np\n",
    "import onnx\n",
    "\n",
    "# Computes Y = S + (W * X + B)\n",
    "\n",
    "shape = (1, 3, 64, 64)\n",
    "\n",
    "S = gs.Variable(name=\"S\", dtype=np.float32, shape=shape)\n",
    "X = gs.Variable(name=\"X\", dtype=np.float32, shape=shape)\n",
    "\n",
    "W = gs.Constant(\"W\", values=np.random.rand(*shape))\n",
    "B= gs.Constant(\"B\", values=np.random.rand(*shape))\n",
    "\n",
    "w_x = gs.Variable(name=\"w_x\")\n",
    "add_bias = gs.Variable(name=\"add_bias\")\n",
    "\n",
    "\n",
    "Y = gs.Variable(name=\"Y\", dtype=np.float32, shape=shape)\n",
    "\n",
    "nodes = [\n",
    "  \n",
    "    gs.Node(op=\"Mul\", inputs=[W, X], outputs=[w_x]),\n",
    "   \n",
    "    gs.Node(op=\"Add\", inputs=[w_x, B], outputs=[add_bias]),\n",
    "\n",
    "    gs.Node(op=\"Add\", inputs=[add_bias, S], outputs=[Y]),\n",
    "]\n",
    "\n",
    "graph = gs.Graph(nodes=nodes, inputs=[S, X], outputs=[Y])\n",
    "onnx.save(gs.export_onnx(graph), \"model.onnx\")"
   ]
  },
  {
   "cell_type": "markdown",
   "metadata": {},
   "source": [
    "### Basics"
   ]
  },
  {
   "cell_type": "markdown",
   "metadata": {},
   "source": [
    "###### Import and Export ONNX"
   ]
  },
  {
   "cell_type": "code",
   "execution_count": 10,
   "metadata": {},
   "outputs": [
    {
     "data": {
      "text/plain": [
       "[ (Mul)\n",
       " \tInputs: [\n",
       " \t\tConstant (W): (shape=[1, 3, 64, 64], dtype=float64)\n",
       " \t\tVariable (X): (shape=[1, 3, 64, 64], dtype=float32)\n",
       " \t]\n",
       " \tOutputs: [\n",
       " \t\tVariable (w_x): (shape=None, dtype=None)\n",
       " \t],\n",
       "  (Add)\n",
       " \tInputs: [\n",
       " \t\tVariable (w_x): (shape=None, dtype=None)\n",
       " \t\tConstant (B): (shape=[1, 3, 64, 64], dtype=float64)\n",
       " \t]\n",
       " \tOutputs: [\n",
       " \t\tVariable (add_bias): (shape=None, dtype=None)\n",
       " \t],\n",
       "  (Add)\n",
       " \tInputs: [\n",
       " \t\tVariable (add_bias): (shape=None, dtype=None)\n",
       " \t\tVariable (S): (shape=[1, 3, 64, 64], dtype=float32)\n",
       " \t]\n",
       " \tOutputs: [\n",
       " \t\tVariable (Y): (shape=[1, 3, 64, 64], dtype=float32)\n",
       " \t]]"
      ]
     },
     "execution_count": 10,
     "metadata": {},
     "output_type": "execute_result"
    }
   ],
   "source": [
    "#Import and Export ONNX\n",
    "\n",
    "# Takes a graph as input and returns an ONNX model as output\n",
    "\n",
    "mymodel=gs.export_onnx(graph)  # Export the graph to an ONNX model\n",
    "onnx.save(mymodel, \"./models/test_relu.onnx\")  # Save the ONNX model to a file\n",
    "\n",
    "# Takes an ONNX model as input and returns a graph as output\n",
    "mygraph=gs.import_onnx(mymodel)  # Import the ONNX model as a graph\n",
    "mygraph.nodes"
   ]
  },
  {
   "cell_type": "markdown",
   "metadata": {},
   "source": [
    "###### Graph"
   ]
  },
  {
   "cell_type": "markdown",
   "metadata": {},
   "source": [
    "<span style=\"font-size: 14px;\">\n",
    "Represents a graph containing nodes and tensors.\n",
    "\n",
    "Parameters:\n",
    "- nodes (Sequence[Node]) – A list of the nodes in this graph.\n",
    "- inputs (Sequence[Tensor]) – A list of graph input Tensors.\n",
    "- outputs (Sequence[Tensor]) – A list of graph output Tensors.\n",
    "- name (str) – The name of the graph. Defaults to “onnx_graphsurgeon_graph”.\n",
    "</span>\n"
   ]
  }
 ],
 "metadata": {
  "kernelspec": {
   "display_name": "mlenv",
   "language": "python",
   "name": "python3"
  },
  "language_info": {
   "codemirror_mode": {
    "name": "ipython",
    "version": 3
   },
   "file_extension": ".py",
   "mimetype": "text/x-python",
   "name": "python",
   "nbconvert_exporter": "python",
   "pygments_lexer": "ipython3",
   "version": "3.13.1"
  }
 },
 "nbformat": 4,
 "nbformat_minor": 2
}
