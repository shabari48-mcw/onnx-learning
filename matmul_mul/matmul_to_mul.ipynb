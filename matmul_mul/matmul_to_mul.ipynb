{
 "cells": [
  {
   "cell_type": "code",
   "execution_count": 5,
   "metadata": {},
   "outputs": [],
   "source": [
    "import onnx\n",
    "import onnx_graphsurgeon as gs\n",
    "import onnxruntime as ort\n",
    "import torch\n",
    "import numpy as np\n",
    "from rich import print"
   ]
  },
  {
   "cell_type": "code",
   "execution_count": 6,
   "metadata": {},
   "outputs": [],
   "source": [
    "def layer_wise(file,i1,i2):\n",
    "\n",
    "    ort_session_1 = ort.InferenceSession(file)\n",
    "    org_outputs = [x.name for x in ort_session_1.get_outputs()]\n",
    "\n",
    "    model = onnx.load(file)\n",
    "    for node in model.graph.node:\n",
    "        for output in node.output:\n",
    "            if output not in org_outputs:\n",
    "                model.graph.output.extend([onnx.ValueInfoProto(name=output)])\n",
    "    \n",
    "    ort_session = ort.InferenceSession(model.SerializeToString())\n",
    "\n",
    "    outputs = [x.name for x in ort_session.get_outputs()]\n",
    "    inputs = [x.name for x in ort_session.get_inputs()]\n",
    "   \n",
    "\n",
    "\n",
    "    ort_outs = ort_session.run(None, input_feed={inputs[0]:i1,inputs[1]:i2})\n",
    "\n",
    "\n",
    "    from collections import OrderedDict\n",
    "    ort_outs = OrderedDict(zip(outputs, ort_outs))\n",
    "\n",
    "    print(f\"Input1 Shape :{i1.shape }Input1 Value :{i1}\")\n",
    "    print(f\"Input1 Shape :{i2.shape }Input1 Value :{i2}\")\n",
    "\n",
    "    for key in ort_outs.keys():\n",
    "        print(f\"Layer : {key} Shape :{ort_outs[key].shape} Outputs :{ort_outs[key]}\")"
   ]
  },
  {
   "cell_type": "code",
   "execution_count": 7,
   "metadata": {},
   "outputs": [],
   "source": [
    "input_value1=np.random.randint(1,5,size=(2,2))\n",
    "input_value2=np.random.randint(1,5,size=(2,2))"
   ]
  },
  {
   "cell_type": "code",
   "execution_count": 8,
   "metadata": {},
   "outputs": [],
   "source": [
    "i1 = gs.Variable(\"input1\", np.int32, (2, 2))\n",
    "i2 = gs.Variable(\"input2\", np.int32, (2, 2))\n",
    "\n",
    "matmul_node = gs.Node(op=\"MatMul\",\n",
    "                      name=\"MatMul_SumMul\",\n",
    "                      inputs=[i1, i2],\n",
    "                      outputs=[gs.Variable(\"output_tensor\", np.int32)])\n",
    "\n",
    "\n",
    "graph = gs.Graph(nodes=[matmul_node], inputs=[i1,i2], outputs=[matmul_node.outputs[0]])\n",
    "\n",
    "onnx_model = gs.export_onnx(graph)\n",
    "onnx.save(onnx_model, \"matrixmul.onnx\")\n"
   ]
  },
  {
   "cell_type": "code",
   "execution_count": 9,
   "metadata": {},
   "outputs": [
    {
     "data": {
      "text/html": [
       "<pre style=\"white-space:pre;overflow-x:auto;line-height:normal;font-family:Menlo,'DejaVu Sans Mono',consolas,'Courier New',monospace\">Input1 Shape :<span style=\"font-weight: bold\">(</span><span style=\"color: #008080; text-decoration-color: #008080; font-weight: bold\">2</span>, <span style=\"color: #008080; text-decoration-color: #008080; font-weight: bold\">2</span><span style=\"font-weight: bold\">)</span>Input1 Value :<span style=\"font-weight: bold\">[[</span><span style=\"color: #008080; text-decoration-color: #008080; font-weight: bold\">2</span> <span style=\"color: #008080; text-decoration-color: #008080; font-weight: bold\">2</span><span style=\"font-weight: bold\">]</span>\n",
       " <span style=\"font-weight: bold\">[</span><span style=\"color: #008080; text-decoration-color: #008080; font-weight: bold\">2</span> <span style=\"color: #008080; text-decoration-color: #008080; font-weight: bold\">1</span><span style=\"font-weight: bold\">]]</span>\n",
       "</pre>\n"
      ],
      "text/plain": [
       "Input1 Shape :\u001b[1m(\u001b[0m\u001b[1;36m2\u001b[0m, \u001b[1;36m2\u001b[0m\u001b[1m)\u001b[0mInput1 Value :\u001b[1m[\u001b[0m\u001b[1m[\u001b[0m\u001b[1;36m2\u001b[0m \u001b[1;36m2\u001b[0m\u001b[1m]\u001b[0m\n",
       " \u001b[1m[\u001b[0m\u001b[1;36m2\u001b[0m \u001b[1;36m1\u001b[0m\u001b[1m]\u001b[0m\u001b[1m]\u001b[0m\n"
      ]
     },
     "metadata": {},
     "output_type": "display_data"
    },
    {
     "data": {
      "text/html": [
       "<pre style=\"white-space:pre;overflow-x:auto;line-height:normal;font-family:Menlo,'DejaVu Sans Mono',consolas,'Courier New',monospace\">Input1 Shape :<span style=\"font-weight: bold\">(</span><span style=\"color: #008080; text-decoration-color: #008080; font-weight: bold\">2</span>, <span style=\"color: #008080; text-decoration-color: #008080; font-weight: bold\">2</span><span style=\"font-weight: bold\">)</span>Input1 Value :<span style=\"font-weight: bold\">[[</span><span style=\"color: #008080; text-decoration-color: #008080; font-weight: bold\">4</span> <span style=\"color: #008080; text-decoration-color: #008080; font-weight: bold\">1</span><span style=\"font-weight: bold\">]</span>\n",
       " <span style=\"font-weight: bold\">[</span><span style=\"color: #008080; text-decoration-color: #008080; font-weight: bold\">2</span> <span style=\"color: #008080; text-decoration-color: #008080; font-weight: bold\">3</span><span style=\"font-weight: bold\">]]</span>\n",
       "</pre>\n"
      ],
      "text/plain": [
       "Input1 Shape :\u001b[1m(\u001b[0m\u001b[1;36m2\u001b[0m, \u001b[1;36m2\u001b[0m\u001b[1m)\u001b[0mInput1 Value :\u001b[1m[\u001b[0m\u001b[1m[\u001b[0m\u001b[1;36m4\u001b[0m \u001b[1;36m1\u001b[0m\u001b[1m]\u001b[0m\n",
       " \u001b[1m[\u001b[0m\u001b[1;36m2\u001b[0m \u001b[1;36m3\u001b[0m\u001b[1m]\u001b[0m\u001b[1m]\u001b[0m\n"
      ]
     },
     "metadata": {},
     "output_type": "display_data"
    },
    {
     "data": {
      "text/html": [
       "<pre style=\"white-space:pre;overflow-x:auto;line-height:normal;font-family:Menlo,'DejaVu Sans Mono',consolas,'Courier New',monospace\">Layer : output_tensor Shape :<span style=\"font-weight: bold\">(</span><span style=\"color: #008080; text-decoration-color: #008080; font-weight: bold\">2</span>, <span style=\"color: #008080; text-decoration-color: #008080; font-weight: bold\">2</span><span style=\"font-weight: bold\">)</span> Outputs :<span style=\"font-weight: bold\">[[</span><span style=\"color: #008080; text-decoration-color: #008080; font-weight: bold\">12</span>  <span style=\"color: #008080; text-decoration-color: #008080; font-weight: bold\">8</span><span style=\"font-weight: bold\">]</span>\n",
       " <span style=\"font-weight: bold\">[</span><span style=\"color: #008080; text-decoration-color: #008080; font-weight: bold\">10</span>  <span style=\"color: #008080; text-decoration-color: #008080; font-weight: bold\">5</span><span style=\"font-weight: bold\">]]</span>\n",
       "</pre>\n"
      ],
      "text/plain": [
       "Layer : output_tensor Shape :\u001b[1m(\u001b[0m\u001b[1;36m2\u001b[0m, \u001b[1;36m2\u001b[0m\u001b[1m)\u001b[0m Outputs :\u001b[1m[\u001b[0m\u001b[1m[\u001b[0m\u001b[1;36m12\u001b[0m  \u001b[1;36m8\u001b[0m\u001b[1m]\u001b[0m\n",
       " \u001b[1m[\u001b[0m\u001b[1;36m10\u001b[0m  \u001b[1;36m5\u001b[0m\u001b[1m]\u001b[0m\u001b[1m]\u001b[0m\n"
      ]
     },
     "metadata": {},
     "output_type": "display_data"
    }
   ],
   "source": [
    "layer_wise(\"matrixmul.onnx\",input_value1,input_value2)"
   ]
  }
 ],
 "metadata": {
  "kernelspec": {
   "display_name": "mlenv",
   "language": "python",
   "name": "python3"
  },
  "language_info": {
   "codemirror_mode": {
    "name": "ipython",
    "version": 3
   },
   "file_extension": ".py",
   "mimetype": "text/x-python",
   "name": "python",
   "nbconvert_exporter": "python",
   "pygments_lexer": "ipython3",
   "version": "3.13.1"
  }
 },
 "nbformat": 4,
 "nbformat_minor": 2
}
